{
 "cells": [
  {
   "cell_type": "code",
   "execution_count": 67,
   "metadata": {},
   "outputs": [],
   "source": [
    "import numpy as np\n",
    "import pandas as pd\n",
    "import os\n",
    "import statistics\n",
    "from scipy.interpolate import CubicSpline\n",
    "from datetime import datetime\n",
    "import matplotlib.pyplot as plt\n",
    "from gtda.time_series import SingleTakensEmbedding, takens_embedding_optimal_parameters\n",
    "from sklearn.decomposition import PCA\n",
    "from gtda.plotting import plot_point_cloud\n",
    "from gtda.diagrams import PersistenceEntropy, PairwiseDistance\n",
    "from gtda.diagrams import Silhouette\n",
    "from gtda.diagrams import BettiCurve \n",
    "from gtda.homology import VietorisRipsPersistence\n",
    "from gtda.time_series import TakensEmbedding, SlidingWindow\n",
    "import plotly.express as px\n",
    "from sklearn.metrics import mutual_info_score\n",
    "from gtda.metaestimators import CollectionTransformer\n",
    "from gtda.pipeline import Pipeline\n",
    "from gtda.plotting import plot_heatmap\n",
    "\n",
    "from plotly.subplots import make_subplots\n",
    "import plotly.graph_objects as go"
   ]
  },
  {
   "cell_type": "code",
   "execution_count": 222,
   "metadata": {},
   "outputs": [],
   "source": [
    "homology_dimensions = (0,1)\n",
    "VRP = VietorisRipsPersistence(homology_dimensions=homology_dimensions)\n",
    "PE = PersistenceEntropy()\n",
    "PE_norm = PersistenceEntropy(normalize=True)\n",
    "Betti = BettiCurve()\n",
    "\n",
    "window_size = 128*4  # 128 points at 6.4 kHz is a window of 0.02 second\n",
    "window_stride = int(window_size*0.8)  # 20% of each window is overlapping with the previous one\n",
    "\n",
    "def compute_max_persistence(sliding_window):\n",
    "    pers_H1 = []\n",
    "    pers_H0 = []\n",
    "    max_pers_H0 = []\n",
    "    max_pers_H1 = []\n",
    "\n",
    "    for PersDiag in sliding_window: \n",
    "        for point in PersDiag:\n",
    "            birth = point[0]\n",
    "            death = point[1]\n",
    "            dimension = point[2]\n",
    "            persistence = abs(death - birth)\n",
    "            pers_H0.extend([persistence] if dimension == 0 else [])\n",
    "            pers_H1.extend([persistence] if dimension == 1 else [])\n",
    "        max_pers_H0.append(np.amax(pers_H0))\n",
    "        max_pers_H1.append(np.amax(pers_H1))\n",
    "        pers_H0 = []\n",
    "        pers_H1 = []\n",
    "\n",
    "    return statistics.mean(max_pers_H0), statistics.mean(max_pers_H1), statistics.stdev(max_pers_H0), statistics.stdev(max_pers_H1)\n",
    "\n",
    "def compute_persistence_entropy(ts_entropy):\n",
    "\n",
    "    Entropy_H0_norm = []\n",
    "    Entropy_H1_norm = []\n",
    "\n",
    "    for item in ts_entropy:\n",
    "        Entropy_H0_norm.append(item[0])\n",
    "        Entropy_H1_norm.append(item[1])\n",
    "    \n",
    "    return statistics.mean(Entropy_H0_norm), statistics.mean(Entropy_H1_norm), statistics.stdev(Entropy_H0_norm), statistics.stdev(Entropy_H1_norm)\n",
    "\n",
    "\n",
    "\n",
    "def compute_betti_curves(ts_betti):\n",
    "\n",
    "    meanBettiH0 = []\n",
    "    meanBettiH1 = []\n",
    "\n",
    "    for i in range(len(ts_betti)):\n",
    "        meanBettiH0.append(statistics.mean(ts_betti[i,0,:]))\n",
    "    for i in range(len(ts_betti)):\n",
    "        meanBettiH1.append(statistics.mean(ts_betti[i,1,:]))\n",
    "\n",
    "    return statistics.mean(meanBettiH0), statistics.stdev(meanBettiH0), statistics.mean(meanBettiH1), statistics.stdev(meanBettiH1)\n",
    "\n",
    "    \n"
   ]
  },
  {
   "cell_type": "code",
   "execution_count": 228,
   "metadata": {},
   "outputs": [],
   "source": [
    "def resample_signal(df, frequency, signal_cutoff):\n",
    "    # ====================================================================================================\n",
    "    # this functions resamples the signal to the desired frequency and cuts it to the desired length\n",
    "    # ====================================================================================================\n",
    "\n",
    "    # check the data time resolution of the data\n",
    "    current_resolution_seconds = df['t'][1] - df['t'][0]\n",
    "    current_resolution_kHz = 1.0 / (1000 * current_resolution_seconds)\n",
    "    \n",
    "    if current_resolution_kHz > frequency+0.5:\n",
    "        print('Signal frequency:', current_resolution_kHz,'Resampling the signal to the expected frequency of', frequency, 'kHz')\n",
    "    \n",
    "        #resample the signal    \n",
    "        if current_resolution_kHz / frequency == 4: # only for the case of 6.4 kHz to 25.4 kHz\n",
    "            df_resampled = df.iloc[::4, :]\n",
    "        else:\n",
    "            print('Error, the signal frequency is not a multiple of the expected frequency of', frequency, 'kHz')\n",
    "            exit()\n",
    "    elif current_resolution_kHz <= frequency+0.5 and current_resolution_kHz >= frequency-0.5:\n",
    "        df_resampled = df\n",
    "    else:\n",
    "        print('ERROR, the signal frequency is lower than the expected frequency of', frequency, 'kHz')\n",
    "        exit()\n",
    "\n",
    "    # cut the signal to cutoff\n",
    "    signal_length = df_resampled['t'].iloc[-1] - df_resampled['t'].iloc[0]\n",
    "\n",
    "    # resetting the index\n",
    "    df_resampled = df_resampled.reset_index(drop=True)\n",
    "\n",
    "    if signal_length > signal_cutoff:\n",
    "        # Find the index closest to 'cutoff' seconds\n",
    "        closest_index = df_resampled['t'].sub(signal_cutoff).abs().idxmin()\n",
    "\n",
    "        # Slice the DataFrame at the closest index\n",
    "        df_resampled = df_resampled.iloc[:closest_index + 1]\n",
    "        \n",
    "    return df_resampled\n",
    "\n",
    "\n",
    "def normalize_signal(df, var):\n",
    "\n",
    "    df[var] = df[var] - df[var].mean() # remove mean\n",
    "    df[var] = df[var] / df[var].std()  # normalize\n",
    "    \n",
    "    return df"
   ]
  },
  {
   "cell_type": "code",
   "execution_count": 225,
   "metadata": {},
   "outputs": [],
   "source": [
    "def run_tda_pipeline(variable, df):\n",
    "    # ====================================================================================================\n",
    "    # this functions interpolates the signal (for smoother results) runs the TDA pipeline  \n",
    "    # ====================================================================================================\n",
    "\n",
    "    signal = df[variable].values\n",
    "\n",
    "    print(\"Running TDA pipeline for variable: \", variable, signal.shape)\n",
    "\n",
    "    #1 interpolate\n",
    "    xmin = 1\n",
    "    #xmax = len(signal)-1\n",
    "    xmax = int(len(signal))-1 # taking only the first half of the signal\n",
    "    some_step = 0.25                         \n",
    "    cs = CubicSpline(range(len(signal)), signal)\n",
    "    x_range = np.arange(xmin, xmax, some_step)\n",
    "\n",
    "    #2 sliding windows\n",
    "    SW = SlidingWindow(size=window_size, stride=window_stride)\n",
    "    sliding_window = SW.fit_transform(cs(x_range)) # fit_transform is necessary to get the windows  \n",
    "    \n",
    "    #3 estimate parameters for takens embedding (fixed for now)\n",
    "    time_delay = 12\n",
    "    embedding_dimension = 9\n",
    "\n",
    "    #4 takens embedding\n",
    "    TE = TakensEmbedding(time_delay=time_delay, dimension=embedding_dimension, stride=1)\n",
    "    ts_embed  = TE.fit_transform(sliding_window)\n",
    "\n",
    "    #5 persistent homology        \n",
    "    ts_diagrams = VRP.fit_transform(ts_embed)\n",
    "    #ts_entropy = PE.fit_transform(ts_diagrams)\n",
    "    ts_entropynorm = PE_norm.fit_transform(ts_diagrams)\n",
    "    ts_Betti = Betti.fit_transform(ts_diagrams) \n",
    "\n",
    "    #6 collect results\n",
    "    avg_PH0, avg_PH1, std_PH0, std_PH1 = compute_max_persistence(ts_diagrams)\n",
    "    avg_EH0, avg_EH1, std_EH0, std_EH1 = compute_persistence_entropy(ts_entropynorm)\n",
    "    avg_BH0, avg_BH1, std_BH0, std_BH1 = compute_betti_curves(ts_Betti)\n",
    "\n",
    "    #7 return\n",
    "    results = [avg_PH0, std_PH0, avg_PH1, std_PH1, avg_EH0, std_EH0, avg_EH1, std_EH1, avg_BH0, std_BH0, avg_BH1, std_BH1]\n",
    "\n",
    "    return results"
   ]
  },
  {
   "cell_type": "code",
   "execution_count": 230,
   "metadata": {},
   "outputs": [],
   "source": [
    "def analyze_data(df, var, frequency, norm=False):\n",
    "    # ====================================================================================================\n",
    "    # this functions triggers resamples the signal to the desired frequency and cuts it to the desired length\n",
    "    # ====================================================================================================\n",
    "\n",
    "    df = resample_signal(df, frequency, 5) # I am adding manually a cutoff of 5 seconds to the signal to analyze to save time\n",
    "\n",
    "    if norm :\n",
    "        print(\"Normalizing signal\")\n",
    "        normalize_signal(df, var)\n",
    "    \n",
    "    results = run_tda_pipeline(var, df)\n",
    "\n",
    "    return results"
   ]
  },
  {
   "cell_type": "code",
   "execution_count": 165,
   "metadata": {},
   "outputs": [],
   "source": [
    "def process_data(folder_path, variable, freq):\n",
    "    # ====================================================================================================\n",
    "    # this functions reads the data from the folder, fixes timestamps and triggers the analysis\n",
    "    # ====================================================================================================\n",
    "\n",
    "    output_format = \"%Y-%m-%d %H:%M:%S\"\n",
    "    #output_format = \"%Y%m%d%H%M%S\"    \n",
    "    input_format = \"WTG64-%Y-%m-%dT%H_%M_%SZ\"\n",
    "    results_array = []\n",
    "    timing_array = []\n",
    "\n",
    "    # Reading the data from the folder\n",
    "\n",
    "    for parquet_file in os.listdir(folder_path):\n",
    "        if parquet_file.endswith('vib.parquet'):\n",
    "            file_name_parts = parquet_file.split('-')[1:-1]\n",
    "            name = '-'.join(file_name_parts)\n",
    "\n",
    "            # Parse the input string to a datetime object\n",
    "            timestamp = datetime.strptime(name, input_format)\n",
    "\n",
    "            # Convert the datetime object to a string with the desired format\n",
    "            formatted_timestamp = timestamp.strftime(output_format)\n",
    "\n",
    "            # Read the vib.parquet file into a DataFrame\n",
    "            df = pd.read_parquet(os.path.join(folder_path, parquet_file))\n",
    "            \n",
    "            # Run the analysis\n",
    "            results = analyze_data(df, variable, freq, False)\n",
    "            \n",
    "            timing_array.append(formatted_timestamp)\n",
    "            results_array.append(results)\n",
    "\n",
    "    return results_array, timing_array"
   ]
  },
  {
   "cell_type": "code",
   "execution_count": 126,
   "metadata": {},
   "outputs": [],
   "source": [
    "def save_and_plot(variable_name, output_file_path, results_array, timestamps_array):\n",
    "\n",
    "    column_names = [\n",
    "        \"Timestamp\",\n",
    "        \"MaxPersH0\", \"StdPersH0\",\n",
    "        \"MaxPersH1\", \"StdPersH1\",\n",
    "        \"AvgEntropyH0\", \"StdEntropyH0\",\n",
    "        \"AvgEntropyH1\", \"StdEntropyH1\",\n",
    "        \"AvgBettiH0\", \"StdBettiH0\",\n",
    "        \"AvgBettiH1\", \"StdBettiH1\"\n",
    "    ]\n",
    "\n",
    "    # Fill missing values (from files with different sampling rate) with NaN\n",
    "    results_array = [row if row != [] else [np.nan] * 12 for row in results_array]\n",
    "    print(\"Results array: \", len(results_array))\n",
    "    \n",
    "    # Write results to file\n",
    "    with open(output_file_path, 'w') as file:\n",
    "        # Write header\n",
    "        file.write(\" # Timestamp, MaxPersH0, StdPersH0, MaxPersH1, StdPersH1, AvgEntropyH0, StdEntropyH0, AvgEntropyH1, StdEntropyH1, AvgBettiH0, StdBettiH0, AvgBettiH1, StdBettiH1\\n\")\n",
    "\n",
    "        for timestamp, row in zip(timestamps_array, results_array):\n",
    "            if row is None:\n",
    "                continue\n",
    "            data_row = ' '.join([str(timestamp)] + [str(item) for item in row]) + '\\n'\n",
    "            file.write(data_row)\n",
    "\n",
    "    print(\"Text file '{}' created.\".format(output_file_path))\n",
    "\n",
    "    # Create a DataFrame using a dictionary\n",
    "    data = {'Timestamp': timestamps_array}\n",
    "    for i, col_name in enumerate(column_names[1:]):\n",
    "        data[col_name] = [row[i] for row in results_array]\n",
    "\n",
    "    df = pd.DataFrame(data)\n",
    "    df = df.sort_values(by='Timestamp', ascending=True)\n",
    "    df.to_csv(variable_name + '.csv', index=False)  # Save DataFrame as CSV\n",
    "\n",
    "    print(\"DataFrame '{}' created and saved.\".format(variable_name))\n",
    "\n",
    "    return df \n"
   ]
  },
  {
   "cell_type": "code",
   "execution_count": 127,
   "metadata": {},
   "outputs": [],
   "source": [
    "def plot_data(df, plot_name):\n",
    "\n",
    "    fig = make_subplots(rows=3, cols=1)\n",
    "\n",
    "    fig.add_trace(go.Scatter(\n",
    "        x=df['Timestamp'],\n",
    "        y=df['MaxPersH0'],\n",
    "        mode='lines+markers',  # Add markers for data points\n",
    "        error_y=dict(\n",
    "            type='data',  # error type: data-based error\n",
    "            array=df['StdPersH0'],  # array of error values\n",
    "            visible=True\n",
    "        ),\n",
    "        name=\"MaxPersH0\"\n",
    "    ), row=1, col=1)\n",
    "\n",
    "    fig.add_trace(go.Scatter(\n",
    "        x=df['Timestamp'],\n",
    "        y=df['MaxPersH1'],\n",
    "        mode='lines+markers',  # Add markers for data points\n",
    "        error_y=dict(\n",
    "            type='data',  # error type: data-based error\n",
    "            array=df['StdPersH1'],  # array of error values\n",
    "            visible=True\n",
    "        ),\n",
    "        name=\"MaxPersH1\"\n",
    "    ), row=2, col=1)\n",
    "\n",
    "    fig.add_trace(go.Scatter(\n",
    "        x=df['Timestamp'],\n",
    "        y=df['AvgEntropyH1'],\n",
    "        mode='lines+markers',  # Add markers for data points\n",
    "        error_y=dict(\n",
    "            type='data',\n",
    "            array=df['StdEntropyH1'],\n",
    "            visible=True\n",
    "        ),\n",
    "        name=\"AvgEntropyH1\"\n",
    "    ), row=3, col=1)\n",
    "\n",
    "    fig.update_layout(height=600, width=1200, title_text=plot_name)\n",
    "\n",
    "    fig.show()\n",
    "    return"
   ]
  },
  {
   "cell_type": "code",
   "execution_count": 231,
   "metadata": {},
   "outputs": [
    {
     "name": "stdout",
     "output_type": "stream",
     "text": [
      "Signal frequency: 25.6 Resampling the signal to the expected frequency of 6.4 kHz\n",
      "Running TDA pipeline for variable:  GbxIss (32001,)\n",
      "Running TDA pipeline for variable:  GbxIss (32001,)\n",
      "Signal frequency: 25.6 Resampling the signal to the expected frequency of 6.4 kHz\n",
      "Running TDA pipeline for variable:  GbxIss (32001,)\n",
      "Signal frequency: 25.6 Resampling the signal to the expected frequency of 6.4 kHz\n",
      "Running TDA pipeline for variable:  GbxIss (32001,)\n",
      "Signal frequency: 25.6 Resampling the signal to the expected frequency of 6.4 kHz\n",
      "Running TDA pipeline for variable:  GbxIss (32001,)\n",
      "Signal frequency: 25.6 Resampling the signal to the expected frequency of 6.4 kHz\n",
      "Running TDA pipeline for variable:  GbxIss (32001,)\n",
      "Signal frequency: 25.6 Resampling the signal to the expected frequency of 6.4 kHz\n",
      "Running TDA pipeline for variable:  GbxIss (32001,)\n",
      "Signal frequency: 25.6 Resampling the signal to the expected frequency of 6.4 kHz\n",
      "Running TDA pipeline for variable:  GbxIss (32001,)\n",
      "Signal frequency: 25.6 Resampling the signal to the expected frequency of 6.4 kHz\n",
      "Running TDA pipeline for variable:  GbxIss (32001,)\n",
      "Signal frequency: 25.6 Resampling the signal to the expected frequency of 6.4 kHz\n",
      "Running TDA pipeline for variable:  GbxIss (32001,)\n",
      "Running TDA pipeline for variable:  GbxIss (32001,)\n",
      "Signal frequency: 25.6 Resampling the signal to the expected frequency of 6.4 kHz\n",
      "Running TDA pipeline for variable:  GbxIss (32001,)\n",
      "Signal frequency: 25.6 Resampling the signal to the expected frequency of 6.4 kHz\n",
      "Running TDA pipeline for variable:  GbxIss (32001,)\n",
      "Running TDA pipeline for variable:  GbxIss (32001,)\n",
      "Signal frequency: 25.6 Resampling the signal to the expected frequency of 6.4 kHz\n",
      "Running TDA pipeline for variable:  GbxIss (32001,)\n",
      "Signal frequency: 25.6 Resampling the signal to the expected frequency of 6.4 kHz\n",
      "Running TDA pipeline for variable:  GbxIss (32001,)\n",
      "Signal frequency: 25.6 Resampling the signal to the expected frequency of 6.4 kHz\n",
      "Running TDA pipeline for variable:  GbxIss (32001,)\n",
      "Signal frequency: 25.6 Resampling the signal to the expected frequency of 6.4 kHz\n",
      "Running TDA pipeline for variable:  GbxIss (32001,)\n",
      "Signal frequency: 25.6 Resampling the signal to the expected frequency of 6.4 kHz\n",
      "Running TDA pipeline for variable:  GbxIss (32001,)\n",
      "Signal frequency: 25.6 Resampling the signal to the expected frequency of 6.4 kHz\n",
      "Running TDA pipeline for variable:  GbxIss (32001,)\n",
      "Running TDA pipeline for variable:  GbxIss (32001,)\n",
      "Signal frequency: 25.6 Resampling the signal to the expected frequency of 6.4 kHz\n",
      "Running TDA pipeline for variable:  GbxIss (32001,)\n",
      "Signal frequency: 25.6 Resampling the signal to the expected frequency of 6.4 kHz\n",
      "Running TDA pipeline for variable:  GbxIss (32001,)\n",
      "Signal frequency: 25.6 Resampling the signal to the expected frequency of 6.4 kHz\n",
      "Running TDA pipeline for variable:  GbxIss (32001,)\n",
      "Signal frequency: 25.6 Resampling the signal to the expected frequency of 6.4 kHz\n",
      "Running TDA pipeline for variable:  GbxIss (32001,)\n",
      "Signal frequency: 25.6 Resampling the signal to the expected frequency of 6.4 kHz\n",
      "Running TDA pipeline for variable:  GbxIss (32001,)\n",
      "Signal frequency: 25.6 Resampling the signal to the expected frequency of 6.4 kHz\n",
      "Running TDA pipeline for variable:  GbxIss (32001,)\n",
      "Signal frequency: 25.6 Resampling the signal to the expected frequency of 6.4 kHz\n",
      "Running TDA pipeline for variable:  GbxIss (32001,)\n",
      "Signal frequency: 25.6 Resampling the signal to the expected frequency of 6.4 kHz\n",
      "Running TDA pipeline for variable:  GbxIss (32001,)\n",
      "Signal frequency: 25.6 Resampling the signal to the expected frequency of 6.4 kHz\n",
      "Running TDA pipeline for variable:  GbxIss (32001,)\n",
      "Signal frequency: 25.6 Resampling the signal to the expected frequency of 6.4 kHz\n",
      "Running TDA pipeline for variable:  GbxIss (32001,)\n",
      "Signal frequency: 25.6 Resampling the signal to the expected frequency of 6.4 kHz\n",
      "Running TDA pipeline for variable:  GbxIss (32001,)\n",
      "Signal frequency: 25.6 Resampling the signal to the expected frequency of 6.4 kHz\n",
      "Running TDA pipeline for variable:  GbxIss (32001,)\n",
      "Signal frequency: 25.6 Resampling the signal to the expected frequency of 6.4 kHz\n",
      "Running TDA pipeline for variable:  GbxIss (32001,)\n",
      "Signal frequency: 25.6 Resampling the signal to the expected frequency of 6.4 kHz\n",
      "Running TDA pipeline for variable:  GbxIss (32001,)\n",
      "Running TDA pipeline for variable:  GbxIss (32001,)\n",
      "Signal frequency: 25.6 Resampling the signal to the expected frequency of 6.4 kHz\n",
      "Running TDA pipeline for variable:  GbxIss (32001,)\n",
      "Running TDA pipeline for variable:  GbxIss (32001,)\n",
      "Running TDA pipeline for variable:  GbxIss (32001,)\n",
      "Signal frequency: 25.6 Resampling the signal to the expected frequency of 6.4 kHz\n",
      "Running TDA pipeline for variable:  GbxIss (32001,)\n",
      "Running TDA pipeline for variable:  GbxIss (32001,)\n",
      "Signal frequency: 25.6 Resampling the signal to the expected frequency of 6.4 kHz\n",
      "Running TDA pipeline for variable:  GbxIss (32001,)\n",
      "Running TDA pipeline for variable:  GbxIss (32001,)\n",
      "Signal frequency: 25.6 Resampling the signal to the expected frequency of 6.4 kHz\n",
      "Running TDA pipeline for variable:  GbxIss (32001,)\n",
      "Signal frequency: 25.6 Resampling the signal to the expected frequency of 6.4 kHz\n",
      "Running TDA pipeline for variable:  GbxIss (32001,)\n",
      "Signal frequency: 25.6 Resampling the signal to the expected frequency of 6.4 kHz\n",
      "Running TDA pipeline for variable:  GbxIss (32001,)\n",
      "Signal frequency: 25.6 Resampling the signal to the expected frequency of 6.4 kHz\n",
      "Running TDA pipeline for variable:  GbxIss (32001,)\n",
      "Signal frequency: 25.6 Resampling the signal to the expected frequency of 6.4 kHz\n",
      "Running TDA pipeline for variable:  GbxIss (32001,)\n",
      "Running TDA pipeline for variable:  GbxIss (32001,)\n",
      "Signal frequency: 25.6 Resampling the signal to the expected frequency of 6.4 kHz\n",
      "Running TDA pipeline for variable:  GbxIss (32001,)\n"
     ]
    }
   ],
   "source": [
    "results, timestamps = process_data('./', 'GbxIss', 6.4)"
   ]
  },
  {
   "cell_type": "code",
   "execution_count": 232,
   "metadata": {},
   "outputs": [
    {
     "name": "stdout",
     "output_type": "stream",
     "text": [
      "Results array:  50\n",
      "Text file 'GbxIss_6kHz_resampled.dat' created.\n",
      "DataFrame 'GbxIss' created and saved.\n"
     ]
    }
   ],
   "source": [
    "df_GbxIss_resampled_6kHz = save_and_plot('GbxIss', 'GbxIss_6kHz_resampled.dat', results, timestamps)"
   ]
  },
  {
   "cell_type": "code",
   "execution_count": 233,
   "metadata": {},
   "outputs": [
    {
     "data": {
      "application/vnd.plotly.v1+json": {
       "config": {
        "plotlyServerURL": "https://plot.ly"
       },
       "data": [
        {
         "error_y": {
          "array": [
           0.6501855884439559,
           1.0009345531883982,
           0.7876561465290727,
           0.8396419559631951,
           0.792077053963586,
           0.8318383570016825,
           0.8091004428702495,
           0.8121865949320698,
           0.7898889933292642,
           0.7713943354628329,
           1.001329024083278,
           0.7965957036032807,
           0.6899403145121128,
           0.8101735659175459,
           1.0043962902989736,
           0.6033227707729766,
           0.2831008741639669,
           0.6012629594175852,
           0.6326780053578736,
           0.9085980241870956,
           0.623582744632136,
           0.8981035743629602,
           0.624241208212233,
           0.677462844106374,
           0.7972771340559447,
           0.9294024640821961,
           0.905684469244212,
           0.7240989698198887,
           0.5358141374653311,
           0.9383362865075262,
           0.6324767913941933,
           0.8981116387279847,
           0.4884299539854715,
           0.6181968624238193,
           1.78616311375373,
           0.7641038261005134,
           0.7999850846991082,
           0.7577386608847024,
           1.4462326178893068,
           1.2031883073245553,
           0.8817543443926171,
           0.8243746617357708,
           0.5080879363958325,
           2.555081909148015,
           1.8193388269606054,
           1.9058668678503305,
           0.9745086287659143,
           0.16660639255627882,
           0.3448314064624009,
           0.23674972592168306
          ],
          "type": "data",
          "visible": true
         },
         "mode": "lines+markers",
         "name": "MaxPersH0",
         "type": "scatter",
         "x": [
          "2018-09-15 10:22:31",
          "2018-10-14 16:34:22",
          "2018-11-11 03:37:42",
          "2018-12-17 03:05:48",
          "2019-01-13 13:12:13",
          "2019-02-16 12:44:06",
          "2019-03-21 16:10:34",
          "2019-04-06 02:06:27",
          "2019-05-11 23:40:44",
          "2019-06-13 15:06:37",
          "2019-07-30 00:41:39",
          "2019-08-17 16:59:51",
          "2019-09-18 15:28:28",
          "2019-10-21 16:16:10",
          "2019-11-30 04:44:30",
          "2019-12-14 21:57:21",
          "2020-01-24 16:10:09",
          "2020-02-18 16:20:56",
          "2020-03-15 17:31:06",
          "2020-04-16 13:23:33",
          "2020-05-15 15:11:50",
          "2020-06-21 16:19:57",
          "2020-07-11 07:26:49",
          "2020-07-28 21:58:00",
          "2020-08-08 12:32:59",
          "2020-08-21 22:55:58",
          "2020-09-03 17:51:11",
          "2020-09-11 18:42:51",
          "2020-09-20 20:15:48",
          "2020-10-01 21:31:03",
          "2020-10-07 13:48:59",
          "2020-10-16 22:56:00",
          "2020-10-25 00:28:49",
          "2020-11-04 03:07:59",
          "2020-11-06 03:11:57",
          "2020-11-12 03:42:51",
          "2020-11-13 03:46:41",
          "2020-11-15 03:49:53",
          "2020-11-16 03:52:58",
          "2020-11-17 03:51:36",
          "2020-11-18 03:56:16",
          "2020-11-20 03:59:55",
          "2020-11-21 04:02:38",
          "2020-11-22 04:01:59",
          "2020-11-23 04:04:55",
          "2020-11-24 04:30:10",
          "2020-11-25 04:22:32",
          "2020-11-26 05:14:48",
          "2020-11-27 04:35:32",
          "2020-11-28 04:44:15"
         ],
         "xaxis": "x",
         "y": [
          7.486892857612708,
          9.334985335667929,
          8.679407844176659,
          8.602214606908651,
          8.78052754738392,
          8.655972395187769,
          8.256916519923088,
          8.539512670957125,
          8.346225341161093,
          8.527358722992432,
          9.51632623641919,
          8.450081097774017,
          8.386874446502098,
          8.366271485120823,
          8.082246505297148,
          6.445048115192315,
          2.4816523175208998,
          6.093753065818396,
          6.309225074755839,
          8.34789619079003,
          6.4225321136988125,
          8.33797033627828,
          6.29997873153442,
          6.4258891710868244,
          7.933142397648249,
          7.599783076689794,
          7.795680360916333,
          6.887539943059285,
          3.5558199087778726,
          8.877042597685104,
          6.476272365985772,
          7.388371383532499,
          3.5637173591515956,
          6.244389614997766,
          4.751103253700794,
          8.217681189378103,
          8.122551564986889,
          8.522413363823524,
          6.068623259281501,
          8.936485825440823,
          6.896374921003978,
          8.180115285592201,
          3.3686174807640223,
          10.091174597923573,
          10.077221842912527,
          10.409454819483635,
          3.8085175714431663,
          0.9191020658383002,
          1.4835480275826576,
          1.2156921124611146
         ],
         "yaxis": "y"
        },
        {
         "error_y": {
          "array": [
           0.6224723934040383,
           0.9404524492866917,
           0.8833284130443033,
           0.7828628481014726,
           0.7962173851342744,
           0.7251646136858354,
           0.7279064286792616,
           0.7148180719309327,
           0.7712769068427858,
           0.8076146760380335,
           1.5264371375414232,
           0.6942374822230893,
           0.7557533761366464,
           0.7569645546214945,
           0.810467219901372,
           0.5626861868428892,
           0.3938874975965692,
           0.6735344746032293,
           1.313146242380317,
           0.9035999821958552,
           0.60219590519907,
           0.7059908916702617,
           0.5441415123389269,
           0.6252996004694388,
           0.7642863058638124,
           0.7355794323760932,
           0.6936290240601705,
           0.7118780002132554,
           0.5375474547964728,
           0.8309163935470133,
           0.6312848785050288,
           0.7310912770873436,
           0.5754167178088045,
           0.5884921256879174,
           5.940531478930962,
           0.7371706043105745,
           0.7853355681941679,
           0.731002530762745,
           7.09951945089492,
           2.088285444611141,
           0.6756081572657907,
           0.6838095976741123,
           0.603289997273811,
           3.2275082183701054,
           2.4777653793558616,
           2.922624884258429,
           1.2780876089793203,
           0.2592875004360679,
           0.4910544901520714,
           0.33177756410727977
          ],
          "type": "data",
          "visible": true
         },
         "mode": "lines+markers",
         "name": "MaxPersH1",
         "type": "scatter",
         "x": [
          "2018-09-15 10:22:31",
          "2018-10-14 16:34:22",
          "2018-11-11 03:37:42",
          "2018-12-17 03:05:48",
          "2019-01-13 13:12:13",
          "2019-02-16 12:44:06",
          "2019-03-21 16:10:34",
          "2019-04-06 02:06:27",
          "2019-05-11 23:40:44",
          "2019-06-13 15:06:37",
          "2019-07-30 00:41:39",
          "2019-08-17 16:59:51",
          "2019-09-18 15:28:28",
          "2019-10-21 16:16:10",
          "2019-11-30 04:44:30",
          "2019-12-14 21:57:21",
          "2020-01-24 16:10:09",
          "2020-02-18 16:20:56",
          "2020-03-15 17:31:06",
          "2020-04-16 13:23:33",
          "2020-05-15 15:11:50",
          "2020-06-21 16:19:57",
          "2020-07-11 07:26:49",
          "2020-07-28 21:58:00",
          "2020-08-08 12:32:59",
          "2020-08-21 22:55:58",
          "2020-09-03 17:51:11",
          "2020-09-11 18:42:51",
          "2020-09-20 20:15:48",
          "2020-10-01 21:31:03",
          "2020-10-07 13:48:59",
          "2020-10-16 22:56:00",
          "2020-10-25 00:28:49",
          "2020-11-04 03:07:59",
          "2020-11-06 03:11:57",
          "2020-11-12 03:42:51",
          "2020-11-13 03:46:41",
          "2020-11-15 03:49:53",
          "2020-11-16 03:52:58",
          "2020-11-17 03:51:36",
          "2020-11-18 03:56:16",
          "2020-11-20 03:59:55",
          "2020-11-21 04:02:38",
          "2020-11-22 04:01:59",
          "2020-11-23 04:04:55",
          "2020-11-24 04:30:10",
          "2020-11-25 04:22:32",
          "2020-11-26 05:14:48",
          "2020-11-27 04:35:32",
          "2020-11-28 04:44:15"
         ],
         "xaxis": "x2",
         "y": [
          4.386432846387227,
          5.907376348972321,
          4.991147484534826,
          4.85051634372809,
          4.84404672567661,
          4.496094486652276,
          4.744517340109899,
          4.463917574821374,
          4.644052814214658,
          4.738685624721723,
          6.2286964395107365,
          4.58930338651706,
          4.535530652755346,
          4.646718317117447,
          4.777125680293793,
          4.2737602568589725,
          2.827178253577306,
          3.984981813491919,
          5.163857622788503,
          5.124636280230987,
          4.242738230106158,
          4.506089010299781,
          3.769403141278487,
          4.337770357345923,
          4.123898124083494,
          4.5241333697086725,
          4.460922319155473,
          4.513672463404826,
          3.4426139409725485,
          5.031441366061186,
          4.326402043684935,
          4.559184303650489,
          3.5416387556455073,
          4.2665444956376,
          6.872635594545266,
          4.546520421138177,
          4.471204233475221,
          4.564837318200332,
          9.599384982234392,
          5.871660255468809,
          4.229483255209067,
          4.677388499944638,
          3.554848089814186,
          8.755314888098301,
          8.287508318057426,
          7.88372824436579,
          5.041088176843448,
          1.2916239673892658,
          2.0765370237521634,
          1.81574414173762
         ],
         "yaxis": "y2"
        },
        {
         "error_y": {
          "array": [
           0.018503868360358347,
           0.019082005777373155,
           0.02115098270288823,
           0.021260081466039745,
           0.020261037285593864,
           0.02019450209858084,
           0.01993354345122353,
           0.020101083562045263,
           0.021176675152517876,
           0.021137710790181046,
           0.019765353482574834,
           0.019384106200401475,
           0.020392098566034477,
           0.023203658443911118,
           0.02119646513048888,
           0.01967185606221134,
           0.03407473568587261,
           0.025325416040170228,
           0.0218731368221053,
           0.022583900578027498,
           0.020415955149732715,
           0.020964633561287246,
           0.02069206856691307,
           0.021741881809647687,
           0.02144633114648978,
           0.02347700815065666,
           0.020336095192058187,
           0.02190654489751908,
           0.034328630997944205,
           0.02372957827741745,
           0.020808951611713703,
           0.0220790749580973,
           0.030658695110199388,
           0.022452507347876925,
           0.0351349742614783,
           0.021889774507216,
           0.02282984243306307,
           0.021090129308445733,
           0.028842457123408688,
           0.0234929600578082,
           0.02291483958997162,
           0.02015471645424493,
           0.03590503816370345,
           0.050484927112874285,
           0.043655001413538154,
           0.04901060082976233,
           0.06514290316592287,
           0.05758126307979006,
           0.05840786628663277,
           0.052855845328053645
          ],
          "type": "data",
          "visible": true
         },
         "mode": "lines+markers",
         "name": "AvgEntropyH1",
         "type": "scatter",
         "x": [
          "2018-09-15 10:22:31",
          "2018-10-14 16:34:22",
          "2018-11-11 03:37:42",
          "2018-12-17 03:05:48",
          "2019-01-13 13:12:13",
          "2019-02-16 12:44:06",
          "2019-03-21 16:10:34",
          "2019-04-06 02:06:27",
          "2019-05-11 23:40:44",
          "2019-06-13 15:06:37",
          "2019-07-30 00:41:39",
          "2019-08-17 16:59:51",
          "2019-09-18 15:28:28",
          "2019-10-21 16:16:10",
          "2019-11-30 04:44:30",
          "2019-12-14 21:57:21",
          "2020-01-24 16:10:09",
          "2020-02-18 16:20:56",
          "2020-03-15 17:31:06",
          "2020-04-16 13:23:33",
          "2020-05-15 15:11:50",
          "2020-06-21 16:19:57",
          "2020-07-11 07:26:49",
          "2020-07-28 21:58:00",
          "2020-08-08 12:32:59",
          "2020-08-21 22:55:58",
          "2020-09-03 17:51:11",
          "2020-09-11 18:42:51",
          "2020-09-20 20:15:48",
          "2020-10-01 21:31:03",
          "2020-10-07 13:48:59",
          "2020-10-16 22:56:00",
          "2020-10-25 00:28:49",
          "2020-11-04 03:07:59",
          "2020-11-06 03:11:57",
          "2020-11-12 03:42:51",
          "2020-11-13 03:46:41",
          "2020-11-15 03:49:53",
          "2020-11-16 03:52:58",
          "2020-11-17 03:51:36",
          "2020-11-18 03:56:16",
          "2020-11-20 03:59:55",
          "2020-11-21 04:02:38",
          "2020-11-22 04:01:59",
          "2020-11-23 04:04:55",
          "2020-11-24 04:30:10",
          "2020-11-25 04:22:32",
          "2020-11-26 05:14:48",
          "2020-11-27 04:35:32",
          "2020-11-28 04:44:15"
         ],
         "xaxis": "x3",
         "y": [
          0.9288485903620449,
          0.8874769326883039,
          0.9202635998841976,
          0.9258519940863343,
          0.9325023765875947,
          0.9429003385742434,
          0.9244142465785403,
          0.946581149773658,
          0.9323752659206692,
          0.945138564669625,
          0.8991071331274738,
          0.9374017706481474,
          0.9455899912938622,
          0.9351508037790791,
          0.9239870880375592,
          0.9241282171748206,
          1.0171520652714376,
          0.9377702485408911,
          0.9093653610231561,
          0.9128705467758378,
          0.9306516472125058,
          0.9372483094116637,
          0.9569253459175849,
          0.9235342744892444,
          0.9618848933767896,
          0.9332523214203939,
          0.9346736521070022,
          0.9285857118492196,
          0.9787525286456229,
          0.9149327154074323,
          0.9276954254405404,
          0.9255895748552287,
          0.9684944358250006,
          0.9260170871878992,
          0.9837258830984751,
          0.9417707072464361,
          0.9357442791858336,
          0.9392208133338775,
          0.9768021976251441,
          0.9074264250436499,
          0.9373329691789748,
          0.9270026107422207,
          0.9698640394703266,
          0.8475668346939804,
          0.8501355922280476,
          0.883323900984876,
          0.9329406186980997,
          1.2328983058056664,
          1.0944115984987344,
          1.1208680941056486
         ],
         "yaxis": "y3"
        }
       ],
       "layout": {
        "height": 600,
        "template": {
         "data": {
          "bar": [
           {
            "error_x": {
             "color": "#2a3f5f"
            },
            "error_y": {
             "color": "#2a3f5f"
            },
            "marker": {
             "line": {
              "color": "#E5ECF6",
              "width": 0.5
             },
             "pattern": {
              "fillmode": "overlay",
              "size": 10,
              "solidity": 0.2
             }
            },
            "type": "bar"
           }
          ],
          "barpolar": [
           {
            "marker": {
             "line": {
              "color": "#E5ECF6",
              "width": 0.5
             },
             "pattern": {
              "fillmode": "overlay",
              "size": 10,
              "solidity": 0.2
             }
            },
            "type": "barpolar"
           }
          ],
          "carpet": [
           {
            "aaxis": {
             "endlinecolor": "#2a3f5f",
             "gridcolor": "white",
             "linecolor": "white",
             "minorgridcolor": "white",
             "startlinecolor": "#2a3f5f"
            },
            "baxis": {
             "endlinecolor": "#2a3f5f",
             "gridcolor": "white",
             "linecolor": "white",
             "minorgridcolor": "white",
             "startlinecolor": "#2a3f5f"
            },
            "type": "carpet"
           }
          ],
          "choropleth": [
           {
            "colorbar": {
             "outlinewidth": 0,
             "ticks": ""
            },
            "type": "choropleth"
           }
          ],
          "contour": [
           {
            "colorbar": {
             "outlinewidth": 0,
             "ticks": ""
            },
            "colorscale": [
             [
              0,
              "#0d0887"
             ],
             [
              0.1111111111111111,
              "#46039f"
             ],
             [
              0.2222222222222222,
              "#7201a8"
             ],
             [
              0.3333333333333333,
              "#9c179e"
             ],
             [
              0.4444444444444444,
              "#bd3786"
             ],
             [
              0.5555555555555556,
              "#d8576b"
             ],
             [
              0.6666666666666666,
              "#ed7953"
             ],
             [
              0.7777777777777778,
              "#fb9f3a"
             ],
             [
              0.8888888888888888,
              "#fdca26"
             ],
             [
              1,
              "#f0f921"
             ]
            ],
            "type": "contour"
           }
          ],
          "contourcarpet": [
           {
            "colorbar": {
             "outlinewidth": 0,
             "ticks": ""
            },
            "type": "contourcarpet"
           }
          ],
          "heatmap": [
           {
            "colorbar": {
             "outlinewidth": 0,
             "ticks": ""
            },
            "colorscale": [
             [
              0,
              "#0d0887"
             ],
             [
              0.1111111111111111,
              "#46039f"
             ],
             [
              0.2222222222222222,
              "#7201a8"
             ],
             [
              0.3333333333333333,
              "#9c179e"
             ],
             [
              0.4444444444444444,
              "#bd3786"
             ],
             [
              0.5555555555555556,
              "#d8576b"
             ],
             [
              0.6666666666666666,
              "#ed7953"
             ],
             [
              0.7777777777777778,
              "#fb9f3a"
             ],
             [
              0.8888888888888888,
              "#fdca26"
             ],
             [
              1,
              "#f0f921"
             ]
            ],
            "type": "heatmap"
           }
          ],
          "heatmapgl": [
           {
            "colorbar": {
             "outlinewidth": 0,
             "ticks": ""
            },
            "colorscale": [
             [
              0,
              "#0d0887"
             ],
             [
              0.1111111111111111,
              "#46039f"
             ],
             [
              0.2222222222222222,
              "#7201a8"
             ],
             [
              0.3333333333333333,
              "#9c179e"
             ],
             [
              0.4444444444444444,
              "#bd3786"
             ],
             [
              0.5555555555555556,
              "#d8576b"
             ],
             [
              0.6666666666666666,
              "#ed7953"
             ],
             [
              0.7777777777777778,
              "#fb9f3a"
             ],
             [
              0.8888888888888888,
              "#fdca26"
             ],
             [
              1,
              "#f0f921"
             ]
            ],
            "type": "heatmapgl"
           }
          ],
          "histogram": [
           {
            "marker": {
             "pattern": {
              "fillmode": "overlay",
              "size": 10,
              "solidity": 0.2
             }
            },
            "type": "histogram"
           }
          ],
          "histogram2d": [
           {
            "colorbar": {
             "outlinewidth": 0,
             "ticks": ""
            },
            "colorscale": [
             [
              0,
              "#0d0887"
             ],
             [
              0.1111111111111111,
              "#46039f"
             ],
             [
              0.2222222222222222,
              "#7201a8"
             ],
             [
              0.3333333333333333,
              "#9c179e"
             ],
             [
              0.4444444444444444,
              "#bd3786"
             ],
             [
              0.5555555555555556,
              "#d8576b"
             ],
             [
              0.6666666666666666,
              "#ed7953"
             ],
             [
              0.7777777777777778,
              "#fb9f3a"
             ],
             [
              0.8888888888888888,
              "#fdca26"
             ],
             [
              1,
              "#f0f921"
             ]
            ],
            "type": "histogram2d"
           }
          ],
          "histogram2dcontour": [
           {
            "colorbar": {
             "outlinewidth": 0,
             "ticks": ""
            },
            "colorscale": [
             [
              0,
              "#0d0887"
             ],
             [
              0.1111111111111111,
              "#46039f"
             ],
             [
              0.2222222222222222,
              "#7201a8"
             ],
             [
              0.3333333333333333,
              "#9c179e"
             ],
             [
              0.4444444444444444,
              "#bd3786"
             ],
             [
              0.5555555555555556,
              "#d8576b"
             ],
             [
              0.6666666666666666,
              "#ed7953"
             ],
             [
              0.7777777777777778,
              "#fb9f3a"
             ],
             [
              0.8888888888888888,
              "#fdca26"
             ],
             [
              1,
              "#f0f921"
             ]
            ],
            "type": "histogram2dcontour"
           }
          ],
          "mesh3d": [
           {
            "colorbar": {
             "outlinewidth": 0,
             "ticks": ""
            },
            "type": "mesh3d"
           }
          ],
          "parcoords": [
           {
            "line": {
             "colorbar": {
              "outlinewidth": 0,
              "ticks": ""
             }
            },
            "type": "parcoords"
           }
          ],
          "pie": [
           {
            "automargin": true,
            "type": "pie"
           }
          ],
          "scatter": [
           {
            "fillpattern": {
             "fillmode": "overlay",
             "size": 10,
             "solidity": 0.2
            },
            "type": "scatter"
           }
          ],
          "scatter3d": [
           {
            "line": {
             "colorbar": {
              "outlinewidth": 0,
              "ticks": ""
             }
            },
            "marker": {
             "colorbar": {
              "outlinewidth": 0,
              "ticks": ""
             }
            },
            "type": "scatter3d"
           }
          ],
          "scattercarpet": [
           {
            "marker": {
             "colorbar": {
              "outlinewidth": 0,
              "ticks": ""
             }
            },
            "type": "scattercarpet"
           }
          ],
          "scattergeo": [
           {
            "marker": {
             "colorbar": {
              "outlinewidth": 0,
              "ticks": ""
             }
            },
            "type": "scattergeo"
           }
          ],
          "scattergl": [
           {
            "marker": {
             "colorbar": {
              "outlinewidth": 0,
              "ticks": ""
             }
            },
            "type": "scattergl"
           }
          ],
          "scattermapbox": [
           {
            "marker": {
             "colorbar": {
              "outlinewidth": 0,
              "ticks": ""
             }
            },
            "type": "scattermapbox"
           }
          ],
          "scatterpolar": [
           {
            "marker": {
             "colorbar": {
              "outlinewidth": 0,
              "ticks": ""
             }
            },
            "type": "scatterpolar"
           }
          ],
          "scatterpolargl": [
           {
            "marker": {
             "colorbar": {
              "outlinewidth": 0,
              "ticks": ""
             }
            },
            "type": "scatterpolargl"
           }
          ],
          "scatterternary": [
           {
            "marker": {
             "colorbar": {
              "outlinewidth": 0,
              "ticks": ""
             }
            },
            "type": "scatterternary"
           }
          ],
          "surface": [
           {
            "colorbar": {
             "outlinewidth": 0,
             "ticks": ""
            },
            "colorscale": [
             [
              0,
              "#0d0887"
             ],
             [
              0.1111111111111111,
              "#46039f"
             ],
             [
              0.2222222222222222,
              "#7201a8"
             ],
             [
              0.3333333333333333,
              "#9c179e"
             ],
             [
              0.4444444444444444,
              "#bd3786"
             ],
             [
              0.5555555555555556,
              "#d8576b"
             ],
             [
              0.6666666666666666,
              "#ed7953"
             ],
             [
              0.7777777777777778,
              "#fb9f3a"
             ],
             [
              0.8888888888888888,
              "#fdca26"
             ],
             [
              1,
              "#f0f921"
             ]
            ],
            "type": "surface"
           }
          ],
          "table": [
           {
            "cells": {
             "fill": {
              "color": "#EBF0F8"
             },
             "line": {
              "color": "white"
             }
            },
            "header": {
             "fill": {
              "color": "#C8D4E3"
             },
             "line": {
              "color": "white"
             }
            },
            "type": "table"
           }
          ]
         },
         "layout": {
          "annotationdefaults": {
           "arrowcolor": "#2a3f5f",
           "arrowhead": 0,
           "arrowwidth": 1
          },
          "autotypenumbers": "strict",
          "coloraxis": {
           "colorbar": {
            "outlinewidth": 0,
            "ticks": ""
           }
          },
          "colorscale": {
           "diverging": [
            [
             0,
             "#8e0152"
            ],
            [
             0.1,
             "#c51b7d"
            ],
            [
             0.2,
             "#de77ae"
            ],
            [
             0.3,
             "#f1b6da"
            ],
            [
             0.4,
             "#fde0ef"
            ],
            [
             0.5,
             "#f7f7f7"
            ],
            [
             0.6,
             "#e6f5d0"
            ],
            [
             0.7,
             "#b8e186"
            ],
            [
             0.8,
             "#7fbc41"
            ],
            [
             0.9,
             "#4d9221"
            ],
            [
             1,
             "#276419"
            ]
           ],
           "sequential": [
            [
             0,
             "#0d0887"
            ],
            [
             0.1111111111111111,
             "#46039f"
            ],
            [
             0.2222222222222222,
             "#7201a8"
            ],
            [
             0.3333333333333333,
             "#9c179e"
            ],
            [
             0.4444444444444444,
             "#bd3786"
            ],
            [
             0.5555555555555556,
             "#d8576b"
            ],
            [
             0.6666666666666666,
             "#ed7953"
            ],
            [
             0.7777777777777778,
             "#fb9f3a"
            ],
            [
             0.8888888888888888,
             "#fdca26"
            ],
            [
             1,
             "#f0f921"
            ]
           ],
           "sequentialminus": [
            [
             0,
             "#0d0887"
            ],
            [
             0.1111111111111111,
             "#46039f"
            ],
            [
             0.2222222222222222,
             "#7201a8"
            ],
            [
             0.3333333333333333,
             "#9c179e"
            ],
            [
             0.4444444444444444,
             "#bd3786"
            ],
            [
             0.5555555555555556,
             "#d8576b"
            ],
            [
             0.6666666666666666,
             "#ed7953"
            ],
            [
             0.7777777777777778,
             "#fb9f3a"
            ],
            [
             0.8888888888888888,
             "#fdca26"
            ],
            [
             1,
             "#f0f921"
            ]
           ]
          },
          "colorway": [
           "#636efa",
           "#EF553B",
           "#00cc96",
           "#ab63fa",
           "#FFA15A",
           "#19d3f3",
           "#FF6692",
           "#B6E880",
           "#FF97FF",
           "#FECB52"
          ],
          "font": {
           "color": "#2a3f5f"
          },
          "geo": {
           "bgcolor": "white",
           "lakecolor": "white",
           "landcolor": "#E5ECF6",
           "showlakes": true,
           "showland": true,
           "subunitcolor": "white"
          },
          "hoverlabel": {
           "align": "left"
          },
          "hovermode": "closest",
          "mapbox": {
           "style": "light"
          },
          "paper_bgcolor": "white",
          "plot_bgcolor": "#E5ECF6",
          "polar": {
           "angularaxis": {
            "gridcolor": "white",
            "linecolor": "white",
            "ticks": ""
           },
           "bgcolor": "#E5ECF6",
           "radialaxis": {
            "gridcolor": "white",
            "linecolor": "white",
            "ticks": ""
           }
          },
          "scene": {
           "xaxis": {
            "backgroundcolor": "#E5ECF6",
            "gridcolor": "white",
            "gridwidth": 2,
            "linecolor": "white",
            "showbackground": true,
            "ticks": "",
            "zerolinecolor": "white"
           },
           "yaxis": {
            "backgroundcolor": "#E5ECF6",
            "gridcolor": "white",
            "gridwidth": 2,
            "linecolor": "white",
            "showbackground": true,
            "ticks": "",
            "zerolinecolor": "white"
           },
           "zaxis": {
            "backgroundcolor": "#E5ECF6",
            "gridcolor": "white",
            "gridwidth": 2,
            "linecolor": "white",
            "showbackground": true,
            "ticks": "",
            "zerolinecolor": "white"
           }
          },
          "shapedefaults": {
           "line": {
            "color": "#2a3f5f"
           }
          },
          "ternary": {
           "aaxis": {
            "gridcolor": "white",
            "linecolor": "white",
            "ticks": ""
           },
           "baxis": {
            "gridcolor": "white",
            "linecolor": "white",
            "ticks": ""
           },
           "bgcolor": "#E5ECF6",
           "caxis": {
            "gridcolor": "white",
            "linecolor": "white",
            "ticks": ""
           }
          },
          "title": {
           "x": 0.05
          },
          "xaxis": {
           "automargin": true,
           "gridcolor": "white",
           "linecolor": "white",
           "ticks": "",
           "title": {
            "standoff": 15
           },
           "zerolinecolor": "white",
           "zerolinewidth": 2
          },
          "yaxis": {
           "automargin": true,
           "gridcolor": "white",
           "linecolor": "white",
           "ticks": "",
           "title": {
            "standoff": 15
           },
           "zerolinecolor": "white",
           "zerolinewidth": 2
          }
         }
        },
        "title": {
         "text": "All data resampled to 6.4 kHz"
        },
        "width": 1200,
        "xaxis": {
         "anchor": "y",
         "domain": [
          0,
          1
         ]
        },
        "xaxis2": {
         "anchor": "y2",
         "domain": [
          0,
          1
         ]
        },
        "xaxis3": {
         "anchor": "y3",
         "domain": [
          0,
          1
         ]
        },
        "yaxis": {
         "anchor": "x",
         "domain": [
          0.7333333333333333,
          1
         ]
        },
        "yaxis2": {
         "anchor": "x2",
         "domain": [
          0.36666666666666664,
          0.6333333333333333
         ]
        },
        "yaxis3": {
         "anchor": "x3",
         "domain": [
          0,
          0.26666666666666666
         ]
        }
       }
      }
     },
     "metadata": {},
     "output_type": "display_data"
    }
   ],
   "source": [
    "plot_data(df_GbxIss_resampled_6kHz, 'All data resampled to 6.4 kHz')"
   ]
  },
  {
   "cell_type": "markdown",
   "metadata": {},
   "source": [
    "Changing the resolution input, to analyze only the 6 kHz signals."
   ]
  },
  {
   "cell_type": "code",
   "execution_count": 96,
   "metadata": {},
   "outputs": [
    {
     "name": "stdout",
     "output_type": "stream",
     "text": [
      "Running TDA pipeline for variable:  GbxIss (262144,)\n",
      "Sliding window shape:  (201, 512)\n",
      "Running TDA pipeline for variable:  GbxIss (262144,)\n",
      "Sliding window shape:  (201, 512)\n",
      "Running TDA pipeline for variable:  GbxIss (262144,)\n",
      "Sliding window shape:  (201, 512)\n",
      "Running TDA pipeline for variable:  GbxIss (262144,)\n",
      "Sliding window shape:  (201, 512)\n",
      "Running TDA pipeline for variable:  GbxIss (262144,)\n",
      "Sliding window shape:  (201, 512)\n",
      "Running TDA pipeline for variable:  GbxIss (262144,)\n",
      "Sliding window shape:  (201, 512)\n",
      "Running TDA pipeline for variable:  GbxIss (262144,)\n",
      "Sliding window shape:  (201, 512)\n",
      "Running TDA pipeline for variable:  GbxIss (262144,)\n",
      "Sliding window shape:  (201, 512)\n",
      "Running TDA pipeline for variable:  GbxIss (262144,)\n",
      "Sliding window shape:  (201, 512)\n",
      "Running TDA pipeline for variable:  GbxIss (262144,)\n",
      "Sliding window shape:  (201, 512)\n",
      "Results array:  50\n",
      "Text file 'GbxIss_6kHz.dat' created.\n",
      "DataFrame 'GbxIss' created and saved.\n"
     ]
    },
    {
     "data": {
      "application/vnd.plotly.v1+json": {
       "config": {
        "plotlyServerURL": "https://plot.ly"
       },
       "data": [
        {
         "error_y": {
          "array": [
           null,
           null,
           null,
           null,
           null,
           null,
           null,
           null,
           null,
           null,
           null,
           null,
           null,
           null,
           null,
           null,
           0.27769237263124524,
           null,
           null,
           null,
           null,
           null,
           null,
           null,
           null,
           null,
           null,
           null,
           0.5319380458370344,
           null,
           null,
           null,
           0.4628626163595457,
           null,
           0.3282501410645212,
           null,
           null,
           null,
           0.7802717154502119,
           null,
           null,
           null,
           0.45081390116532993,
           null,
           null,
           null,
           0.9857152930562438,
           0.16696420973920215,
           0.3646619889150458,
           0.22468561650300717
          ],
          "type": "data",
          "visible": true
         },
         "mode": "lines+markers",
         "name": "MaxPersH0",
         "type": "scatter",
         "x": [
          "2018-09-15 10:22:31",
          "2018-10-14 16:34:22",
          "2018-11-11 03:37:42",
          "2018-12-17 03:05:48",
          "2019-01-13 13:12:13",
          "2019-02-16 12:44:06",
          "2019-03-21 16:10:34",
          "2019-04-06 02:06:27",
          "2019-05-11 23:40:44",
          "2019-06-13 15:06:37",
          "2019-07-30 00:41:39",
          "2019-08-17 16:59:51",
          "2019-09-18 15:28:28",
          "2019-10-21 16:16:10",
          "2019-11-30 04:44:30",
          "2019-12-14 21:57:21",
          "2020-01-24 16:10:09",
          "2020-02-18 16:20:56",
          "2020-03-15 17:31:06",
          "2020-04-16 13:23:33",
          "2020-05-15 15:11:50",
          "2020-06-21 16:19:57",
          "2020-07-11 07:26:49",
          "2020-07-28 21:58:00",
          "2020-08-08 12:32:59",
          "2020-08-21 22:55:58",
          "2020-09-03 17:51:11",
          "2020-09-11 18:42:51",
          "2020-09-20 20:15:48",
          "2020-10-01 21:31:03",
          "2020-10-07 13:48:59",
          "2020-10-16 22:56:00",
          "2020-10-25 00:28:49",
          "2020-11-04 03:07:59",
          "2020-11-06 03:11:57",
          "2020-11-12 03:42:51",
          "2020-11-13 03:46:41",
          "2020-11-15 03:49:53",
          "2020-11-16 03:52:58",
          "2020-11-17 03:51:36",
          "2020-11-18 03:56:16",
          "2020-11-20 03:59:55",
          "2020-11-21 04:02:38",
          "2020-11-22 04:01:59",
          "2020-11-23 04:04:55",
          "2020-11-24 04:30:10",
          "2020-11-25 04:22:32",
          "2020-11-26 05:14:48",
          "2020-11-27 04:35:32",
          "2020-11-28 04:44:15"
         ],
         "xaxis": "x",
         "y": [
          null,
          null,
          null,
          null,
          null,
          null,
          null,
          null,
          null,
          null,
          null,
          null,
          null,
          null,
          null,
          null,
          2.586709220611041,
          null,
          null,
          null,
          null,
          null,
          null,
          null,
          null,
          null,
          null,
          null,
          3.0264841887488294,
          null,
          null,
          null,
          3.6932923770069483,
          null,
          2.8679756537005674,
          null,
          null,
          null,
          7.632428126548653,
          null,
          null,
          null,
          3.277736296108113,
          null,
          null,
          null,
          3.919893811591229,
          0.9228407363986495,
          1.5488417972972737,
          1.1692661112220726
         ],
         "yaxis": "y"
        },
        {
         "error_y": {
          "array": [
           null,
           null,
           null,
           null,
           null,
           null,
           null,
           null,
           null,
           null,
           null,
           null,
           null,
           null,
           null,
           null,
           0.40717908321726376,
           null,
           null,
           null,
           null,
           null,
           null,
           null,
           null,
           null,
           null,
           null,
           0.5408249634551686,
           null,
           null,
           null,
           0.5152907935750453,
           null,
           1.086764493460937,
           null,
           null,
           null,
           5.2300167298210605,
           null,
           null,
           null,
           0.5785486530010828,
           null,
           null,
           null,
           1.269164278169569,
           0.24886063758573662,
           0.49870539540776176,
           0.3073130765950897
          ],
          "type": "data",
          "visible": true
         },
         "mode": "lines+markers",
         "name": "MaxPersH1",
         "type": "scatter",
         "x": [
          "2018-09-15 10:22:31",
          "2018-10-14 16:34:22",
          "2018-11-11 03:37:42",
          "2018-12-17 03:05:48",
          "2019-01-13 13:12:13",
          "2019-02-16 12:44:06",
          "2019-03-21 16:10:34",
          "2019-04-06 02:06:27",
          "2019-05-11 23:40:44",
          "2019-06-13 15:06:37",
          "2019-07-30 00:41:39",
          "2019-08-17 16:59:51",
          "2019-09-18 15:28:28",
          "2019-10-21 16:16:10",
          "2019-11-30 04:44:30",
          "2019-12-14 21:57:21",
          "2020-01-24 16:10:09",
          "2020-02-18 16:20:56",
          "2020-03-15 17:31:06",
          "2020-04-16 13:23:33",
          "2020-05-15 15:11:50",
          "2020-06-21 16:19:57",
          "2020-07-11 07:26:49",
          "2020-07-28 21:58:00",
          "2020-08-08 12:32:59",
          "2020-08-21 22:55:58",
          "2020-09-03 17:51:11",
          "2020-09-11 18:42:51",
          "2020-09-20 20:15:48",
          "2020-10-01 21:31:03",
          "2020-10-07 13:48:59",
          "2020-10-16 22:56:00",
          "2020-10-25 00:28:49",
          "2020-11-04 03:07:59",
          "2020-11-06 03:11:57",
          "2020-11-12 03:42:51",
          "2020-11-13 03:46:41",
          "2020-11-15 03:49:53",
          "2020-11-16 03:52:58",
          "2020-11-17 03:51:36",
          "2020-11-18 03:56:16",
          "2020-11-20 03:59:55",
          "2020-11-21 04:02:38",
          "2020-11-22 04:01:59",
          "2020-11-23 04:04:55",
          "2020-11-24 04:30:10",
          "2020-11-25 04:22:32",
          "2020-11-26 05:14:48",
          "2020-11-27 04:35:32",
          "2020-11-28 04:44:15"
         ],
         "xaxis": "x2",
         "y": [
          null,
          null,
          null,
          null,
          null,
          null,
          null,
          null,
          null,
          null,
          null,
          null,
          null,
          null,
          null,
          null,
          2.8114241296379126,
          null,
          null,
          null,
          null,
          null,
          null,
          null,
          null,
          null,
          null,
          null,
          3.2612478982156783,
          null,
          null,
          null,
          3.4710003920455477,
          null,
          3.81578767240344,
          null,
          null,
          null,
          17.57289855634395,
          null,
          null,
          null,
          3.5542337040403,
          null,
          null,
          null,
          5.250673505797315,
          1.2969088803476363,
          2.159949952986703,
          1.7100603939288885
         ],
         "yaxis": "y2"
        },
        {
         "error_y": {
          "array": [
           null,
           null,
           null,
           null,
           null,
           null,
           null,
           null,
           null,
           null,
           null,
           null,
           null,
           null,
           null,
           null,
           0.036370428769462435,
           null,
           null,
           null,
           null,
           null,
           null,
           null,
           null,
           null,
           null,
           null,
           0.03502160895033605,
           null,
           null,
           null,
           0.031421521127718115,
           null,
           0.03300503867631776,
           null,
           null,
           null,
           0.023371955963318824,
           null,
           null,
           null,
           0.03557067852380285,
           null,
           null,
           null,
           0.06514183443675367,
           0.05755645625305041,
           0.05798967477923747,
           0.04701843256511145
          ],
          "type": "data",
          "visible": true
         },
         "mode": "lines+markers",
         "name": "AvgEntropyH1",
         "type": "scatter",
         "x": [
          "2018-09-15 10:22:31",
          "2018-10-14 16:34:22",
          "2018-11-11 03:37:42",
          "2018-12-17 03:05:48",
          "2019-01-13 13:12:13",
          "2019-02-16 12:44:06",
          "2019-03-21 16:10:34",
          "2019-04-06 02:06:27",
          "2019-05-11 23:40:44",
          "2019-06-13 15:06:37",
          "2019-07-30 00:41:39",
          "2019-08-17 16:59:51",
          "2019-09-18 15:28:28",
          "2019-10-21 16:16:10",
          "2019-11-30 04:44:30",
          "2019-12-14 21:57:21",
          "2020-01-24 16:10:09",
          "2020-02-18 16:20:56",
          "2020-03-15 17:31:06",
          "2020-04-16 13:23:33",
          "2020-05-15 15:11:50",
          "2020-06-21 16:19:57",
          "2020-07-11 07:26:49",
          "2020-07-28 21:58:00",
          "2020-08-08 12:32:59",
          "2020-08-21 22:55:58",
          "2020-09-03 17:51:11",
          "2020-09-11 18:42:51",
          "2020-09-20 20:15:48",
          "2020-10-01 21:31:03",
          "2020-10-07 13:48:59",
          "2020-10-16 22:56:00",
          "2020-10-25 00:28:49",
          "2020-11-04 03:07:59",
          "2020-11-06 03:11:57",
          "2020-11-12 03:42:51",
          "2020-11-13 03:46:41",
          "2020-11-15 03:49:53",
          "2020-11-16 03:52:58",
          "2020-11-17 03:51:36",
          "2020-11-18 03:56:16",
          "2020-11-20 03:59:55",
          "2020-11-21 04:02:38",
          "2020-11-22 04:01:59",
          "2020-11-23 04:04:55",
          "2020-11-24 04:30:10",
          "2020-11-25 04:22:32",
          "2020-11-26 05:14:48",
          "2020-11-27 04:35:32",
          "2020-11-28 04:44:15"
         ],
         "xaxis": "x3",
         "y": [
          null,
          null,
          null,
          null,
          null,
          null,
          null,
          null,
          null,
          null,
          null,
          null,
          null,
          null,
          null,
          null,
          1.0218600715379162,
          null,
          null,
          null,
          null,
          null,
          null,
          null,
          null,
          null,
          null,
          null,
          0.9826929752664955,
          null,
          null,
          null,
          0.9725272352172176,
          null,
          0.9897756240173456,
          null,
          null,
          null,
          0.9743269191013174,
          null,
          null,
          null,
          0.9652640275314276,
          null,
          null,
          null,
          0.9352618326794159,
          1.2296017256070382,
          1.0800092801679155,
          1.1352995475559708
         ],
         "yaxis": "y3"
        }
       ],
       "layout": {
        "height": 600,
        "template": {
         "data": {
          "bar": [
           {
            "error_x": {
             "color": "#2a3f5f"
            },
            "error_y": {
             "color": "#2a3f5f"
            },
            "marker": {
             "line": {
              "color": "#E5ECF6",
              "width": 0.5
             },
             "pattern": {
              "fillmode": "overlay",
              "size": 10,
              "solidity": 0.2
             }
            },
            "type": "bar"
           }
          ],
          "barpolar": [
           {
            "marker": {
             "line": {
              "color": "#E5ECF6",
              "width": 0.5
             },
             "pattern": {
              "fillmode": "overlay",
              "size": 10,
              "solidity": 0.2
             }
            },
            "type": "barpolar"
           }
          ],
          "carpet": [
           {
            "aaxis": {
             "endlinecolor": "#2a3f5f",
             "gridcolor": "white",
             "linecolor": "white",
             "minorgridcolor": "white",
             "startlinecolor": "#2a3f5f"
            },
            "baxis": {
             "endlinecolor": "#2a3f5f",
             "gridcolor": "white",
             "linecolor": "white",
             "minorgridcolor": "white",
             "startlinecolor": "#2a3f5f"
            },
            "type": "carpet"
           }
          ],
          "choropleth": [
           {
            "colorbar": {
             "outlinewidth": 0,
             "ticks": ""
            },
            "type": "choropleth"
           }
          ],
          "contour": [
           {
            "colorbar": {
             "outlinewidth": 0,
             "ticks": ""
            },
            "colorscale": [
             [
              0,
              "#0d0887"
             ],
             [
              0.1111111111111111,
              "#46039f"
             ],
             [
              0.2222222222222222,
              "#7201a8"
             ],
             [
              0.3333333333333333,
              "#9c179e"
             ],
             [
              0.4444444444444444,
              "#bd3786"
             ],
             [
              0.5555555555555556,
              "#d8576b"
             ],
             [
              0.6666666666666666,
              "#ed7953"
             ],
             [
              0.7777777777777778,
              "#fb9f3a"
             ],
             [
              0.8888888888888888,
              "#fdca26"
             ],
             [
              1,
              "#f0f921"
             ]
            ],
            "type": "contour"
           }
          ],
          "contourcarpet": [
           {
            "colorbar": {
             "outlinewidth": 0,
             "ticks": ""
            },
            "type": "contourcarpet"
           }
          ],
          "heatmap": [
           {
            "colorbar": {
             "outlinewidth": 0,
             "ticks": ""
            },
            "colorscale": [
             [
              0,
              "#0d0887"
             ],
             [
              0.1111111111111111,
              "#46039f"
             ],
             [
              0.2222222222222222,
              "#7201a8"
             ],
             [
              0.3333333333333333,
              "#9c179e"
             ],
             [
              0.4444444444444444,
              "#bd3786"
             ],
             [
              0.5555555555555556,
              "#d8576b"
             ],
             [
              0.6666666666666666,
              "#ed7953"
             ],
             [
              0.7777777777777778,
              "#fb9f3a"
             ],
             [
              0.8888888888888888,
              "#fdca26"
             ],
             [
              1,
              "#f0f921"
             ]
            ],
            "type": "heatmap"
           }
          ],
          "heatmapgl": [
           {
            "colorbar": {
             "outlinewidth": 0,
             "ticks": ""
            },
            "colorscale": [
             [
              0,
              "#0d0887"
             ],
             [
              0.1111111111111111,
              "#46039f"
             ],
             [
              0.2222222222222222,
              "#7201a8"
             ],
             [
              0.3333333333333333,
              "#9c179e"
             ],
             [
              0.4444444444444444,
              "#bd3786"
             ],
             [
              0.5555555555555556,
              "#d8576b"
             ],
             [
              0.6666666666666666,
              "#ed7953"
             ],
             [
              0.7777777777777778,
              "#fb9f3a"
             ],
             [
              0.8888888888888888,
              "#fdca26"
             ],
             [
              1,
              "#f0f921"
             ]
            ],
            "type": "heatmapgl"
           }
          ],
          "histogram": [
           {
            "marker": {
             "pattern": {
              "fillmode": "overlay",
              "size": 10,
              "solidity": 0.2
             }
            },
            "type": "histogram"
           }
          ],
          "histogram2d": [
           {
            "colorbar": {
             "outlinewidth": 0,
             "ticks": ""
            },
            "colorscale": [
             [
              0,
              "#0d0887"
             ],
             [
              0.1111111111111111,
              "#46039f"
             ],
             [
              0.2222222222222222,
              "#7201a8"
             ],
             [
              0.3333333333333333,
              "#9c179e"
             ],
             [
              0.4444444444444444,
              "#bd3786"
             ],
             [
              0.5555555555555556,
              "#d8576b"
             ],
             [
              0.6666666666666666,
              "#ed7953"
             ],
             [
              0.7777777777777778,
              "#fb9f3a"
             ],
             [
              0.8888888888888888,
              "#fdca26"
             ],
             [
              1,
              "#f0f921"
             ]
            ],
            "type": "histogram2d"
           }
          ],
          "histogram2dcontour": [
           {
            "colorbar": {
             "outlinewidth": 0,
             "ticks": ""
            },
            "colorscale": [
             [
              0,
              "#0d0887"
             ],
             [
              0.1111111111111111,
              "#46039f"
             ],
             [
              0.2222222222222222,
              "#7201a8"
             ],
             [
              0.3333333333333333,
              "#9c179e"
             ],
             [
              0.4444444444444444,
              "#bd3786"
             ],
             [
              0.5555555555555556,
              "#d8576b"
             ],
             [
              0.6666666666666666,
              "#ed7953"
             ],
             [
              0.7777777777777778,
              "#fb9f3a"
             ],
             [
              0.8888888888888888,
              "#fdca26"
             ],
             [
              1,
              "#f0f921"
             ]
            ],
            "type": "histogram2dcontour"
           }
          ],
          "mesh3d": [
           {
            "colorbar": {
             "outlinewidth": 0,
             "ticks": ""
            },
            "type": "mesh3d"
           }
          ],
          "parcoords": [
           {
            "line": {
             "colorbar": {
              "outlinewidth": 0,
              "ticks": ""
             }
            },
            "type": "parcoords"
           }
          ],
          "pie": [
           {
            "automargin": true,
            "type": "pie"
           }
          ],
          "scatter": [
           {
            "fillpattern": {
             "fillmode": "overlay",
             "size": 10,
             "solidity": 0.2
            },
            "type": "scatter"
           }
          ],
          "scatter3d": [
           {
            "line": {
             "colorbar": {
              "outlinewidth": 0,
              "ticks": ""
             }
            },
            "marker": {
             "colorbar": {
              "outlinewidth": 0,
              "ticks": ""
             }
            },
            "type": "scatter3d"
           }
          ],
          "scattercarpet": [
           {
            "marker": {
             "colorbar": {
              "outlinewidth": 0,
              "ticks": ""
             }
            },
            "type": "scattercarpet"
           }
          ],
          "scattergeo": [
           {
            "marker": {
             "colorbar": {
              "outlinewidth": 0,
              "ticks": ""
             }
            },
            "type": "scattergeo"
           }
          ],
          "scattergl": [
           {
            "marker": {
             "colorbar": {
              "outlinewidth": 0,
              "ticks": ""
             }
            },
            "type": "scattergl"
           }
          ],
          "scattermapbox": [
           {
            "marker": {
             "colorbar": {
              "outlinewidth": 0,
              "ticks": ""
             }
            },
            "type": "scattermapbox"
           }
          ],
          "scatterpolar": [
           {
            "marker": {
             "colorbar": {
              "outlinewidth": 0,
              "ticks": ""
             }
            },
            "type": "scatterpolar"
           }
          ],
          "scatterpolargl": [
           {
            "marker": {
             "colorbar": {
              "outlinewidth": 0,
              "ticks": ""
             }
            },
            "type": "scatterpolargl"
           }
          ],
          "scatterternary": [
           {
            "marker": {
             "colorbar": {
              "outlinewidth": 0,
              "ticks": ""
             }
            },
            "type": "scatterternary"
           }
          ],
          "surface": [
           {
            "colorbar": {
             "outlinewidth": 0,
             "ticks": ""
            },
            "colorscale": [
             [
              0,
              "#0d0887"
             ],
             [
              0.1111111111111111,
              "#46039f"
             ],
             [
              0.2222222222222222,
              "#7201a8"
             ],
             [
              0.3333333333333333,
              "#9c179e"
             ],
             [
              0.4444444444444444,
              "#bd3786"
             ],
             [
              0.5555555555555556,
              "#d8576b"
             ],
             [
              0.6666666666666666,
              "#ed7953"
             ],
             [
              0.7777777777777778,
              "#fb9f3a"
             ],
             [
              0.8888888888888888,
              "#fdca26"
             ],
             [
              1,
              "#f0f921"
             ]
            ],
            "type": "surface"
           }
          ],
          "table": [
           {
            "cells": {
             "fill": {
              "color": "#EBF0F8"
             },
             "line": {
              "color": "white"
             }
            },
            "header": {
             "fill": {
              "color": "#C8D4E3"
             },
             "line": {
              "color": "white"
             }
            },
            "type": "table"
           }
          ]
         },
         "layout": {
          "annotationdefaults": {
           "arrowcolor": "#2a3f5f",
           "arrowhead": 0,
           "arrowwidth": 1
          },
          "autotypenumbers": "strict",
          "coloraxis": {
           "colorbar": {
            "outlinewidth": 0,
            "ticks": ""
           }
          },
          "colorscale": {
           "diverging": [
            [
             0,
             "#8e0152"
            ],
            [
             0.1,
             "#c51b7d"
            ],
            [
             0.2,
             "#de77ae"
            ],
            [
             0.3,
             "#f1b6da"
            ],
            [
             0.4,
             "#fde0ef"
            ],
            [
             0.5,
             "#f7f7f7"
            ],
            [
             0.6,
             "#e6f5d0"
            ],
            [
             0.7,
             "#b8e186"
            ],
            [
             0.8,
             "#7fbc41"
            ],
            [
             0.9,
             "#4d9221"
            ],
            [
             1,
             "#276419"
            ]
           ],
           "sequential": [
            [
             0,
             "#0d0887"
            ],
            [
             0.1111111111111111,
             "#46039f"
            ],
            [
             0.2222222222222222,
             "#7201a8"
            ],
            [
             0.3333333333333333,
             "#9c179e"
            ],
            [
             0.4444444444444444,
             "#bd3786"
            ],
            [
             0.5555555555555556,
             "#d8576b"
            ],
            [
             0.6666666666666666,
             "#ed7953"
            ],
            [
             0.7777777777777778,
             "#fb9f3a"
            ],
            [
             0.8888888888888888,
             "#fdca26"
            ],
            [
             1,
             "#f0f921"
            ]
           ],
           "sequentialminus": [
            [
             0,
             "#0d0887"
            ],
            [
             0.1111111111111111,
             "#46039f"
            ],
            [
             0.2222222222222222,
             "#7201a8"
            ],
            [
             0.3333333333333333,
             "#9c179e"
            ],
            [
             0.4444444444444444,
             "#bd3786"
            ],
            [
             0.5555555555555556,
             "#d8576b"
            ],
            [
             0.6666666666666666,
             "#ed7953"
            ],
            [
             0.7777777777777778,
             "#fb9f3a"
            ],
            [
             0.8888888888888888,
             "#fdca26"
            ],
            [
             1,
             "#f0f921"
            ]
           ]
          },
          "colorway": [
           "#636efa",
           "#EF553B",
           "#00cc96",
           "#ab63fa",
           "#FFA15A",
           "#19d3f3",
           "#FF6692",
           "#B6E880",
           "#FF97FF",
           "#FECB52"
          ],
          "font": {
           "color": "#2a3f5f"
          },
          "geo": {
           "bgcolor": "white",
           "lakecolor": "white",
           "landcolor": "#E5ECF6",
           "showlakes": true,
           "showland": true,
           "subunitcolor": "white"
          },
          "hoverlabel": {
           "align": "left"
          },
          "hovermode": "closest",
          "mapbox": {
           "style": "light"
          },
          "paper_bgcolor": "white",
          "plot_bgcolor": "#E5ECF6",
          "polar": {
           "angularaxis": {
            "gridcolor": "white",
            "linecolor": "white",
            "ticks": ""
           },
           "bgcolor": "#E5ECF6",
           "radialaxis": {
            "gridcolor": "white",
            "linecolor": "white",
            "ticks": ""
           }
          },
          "scene": {
           "xaxis": {
            "backgroundcolor": "#E5ECF6",
            "gridcolor": "white",
            "gridwidth": 2,
            "linecolor": "white",
            "showbackground": true,
            "ticks": "",
            "zerolinecolor": "white"
           },
           "yaxis": {
            "backgroundcolor": "#E5ECF6",
            "gridcolor": "white",
            "gridwidth": 2,
            "linecolor": "white",
            "showbackground": true,
            "ticks": "",
            "zerolinecolor": "white"
           },
           "zaxis": {
            "backgroundcolor": "#E5ECF6",
            "gridcolor": "white",
            "gridwidth": 2,
            "linecolor": "white",
            "showbackground": true,
            "ticks": "",
            "zerolinecolor": "white"
           }
          },
          "shapedefaults": {
           "line": {
            "color": "#2a3f5f"
           }
          },
          "ternary": {
           "aaxis": {
            "gridcolor": "white",
            "linecolor": "white",
            "ticks": ""
           },
           "baxis": {
            "gridcolor": "white",
            "linecolor": "white",
            "ticks": ""
           },
           "bgcolor": "#E5ECF6",
           "caxis": {
            "gridcolor": "white",
            "linecolor": "white",
            "ticks": ""
           }
          },
          "title": {
           "x": 0.05
          },
          "xaxis": {
           "automargin": true,
           "gridcolor": "white",
           "linecolor": "white",
           "ticks": "",
           "title": {
            "standoff": 15
           },
           "zerolinecolor": "white",
           "zerolinewidth": 2
          },
          "yaxis": {
           "automargin": true,
           "gridcolor": "white",
           "linecolor": "white",
           "ticks": "",
           "title": {
            "standoff": 15
           },
           "zerolinecolor": "white",
           "zerolinewidth": 2
          }
         }
        },
        "title": {
         "text": "df_GbxIss_6kHz"
        },
        "width": 1200,
        "xaxis": {
         "anchor": "y",
         "domain": [
          0,
          1
         ]
        },
        "xaxis2": {
         "anchor": "y2",
         "domain": [
          0,
          1
         ]
        },
        "xaxis3": {
         "anchor": "y3",
         "domain": [
          0,
          1
         ]
        },
        "yaxis": {
         "anchor": "x",
         "domain": [
          0.7333333333333333,
          1
         ]
        },
        "yaxis2": {
         "anchor": "x2",
         "domain": [
          0.36666666666666664,
          0.6333333333333333
         ]
        },
        "yaxis3": {
         "anchor": "x3",
         "domain": [
          0,
          0.26666666666666666
         ]
        }
       }
      }
     },
     "metadata": {},
     "output_type": "display_data"
    }
   ],
   "source": [
    "results, timestamps = process_data('./', 'GbxIss')\n",
    "df_GbxIss_6kHz = save_and_plot('GbxIss', 'GbxIss_6kHz.dat', results, timestamps)\n",
    "plot_data(df_GbxIss_6kHz, 'df_GbxIss_6kHz')"
   ]
  },
  {
   "cell_type": "code",
   "execution_count": 107,
   "metadata": {},
   "outputs": [
    {
     "name": "stdout",
     "output_type": "stream",
     "text": [
      "Running TDA pipeline for variable:  GbxIss (262144,)\n",
      "Sliding window shape:  (407, 512)\n",
      "Running TDA pipeline for variable:  GbxIss (262144,)\n",
      "Sliding window shape:  (407, 512)\n",
      "Running TDA pipeline for variable:  GbxIss (262144,)\n",
      "Sliding window shape:  (407, 512)\n",
      "Running TDA pipeline for variable:  GbxIss (262144,)\n",
      "Sliding window shape:  (407, 512)\n",
      "Running TDA pipeline for variable:  GbxIss (262144,)\n",
      "Sliding window shape:  (407, 512)\n",
      "Running TDA pipeline for variable:  GbxIss (262144,)\n",
      "Sliding window shape:  (407, 512)\n",
      "Running TDA pipeline for variable:  GbxIss (262144,)\n",
      "Sliding window shape:  (407, 512)\n",
      "Running TDA pipeline for variable:  GbxIss (262144,)\n",
      "Sliding window shape:  (407, 512)\n",
      "Running TDA pipeline for variable:  GbxIss (262144,)\n",
      "Sliding window shape:  (407, 512)\n",
      "Running TDA pipeline for variable:  GbxIss (262144,)\n",
      "Sliding window shape:  (407, 512)\n",
      "Running TDA pipeline for variable:  GbxIss (262144,)\n",
      "Sliding window shape:  (407, 512)\n",
      "Running TDA pipeline for variable:  GbxIss (262144,)\n",
      "Sliding window shape:  (407, 512)\n",
      "Running TDA pipeline for variable:  GbxIss (262144,)\n",
      "Sliding window shape:  (407, 512)\n",
      "Running TDA pipeline for variable:  GbxIss (262144,)\n",
      "Sliding window shape:  (407, 512)\n",
      "Running TDA pipeline for variable:  GbxIss (262144,)\n",
      "Sliding window shape:  (407, 512)\n",
      "Running TDA pipeline for variable:  GbxIss (262144,)\n",
      "Sliding window shape:  (407, 512)\n",
      "Running TDA pipeline for variable:  GbxIss (262144,)\n",
      "Sliding window shape:  (407, 512)\n",
      "Running TDA pipeline for variable:  GbxIss (262144,)\n",
      "Sliding window shape:  (407, 512)\n",
      "Running TDA pipeline for variable:  GbxIss (262144,)\n",
      "Sliding window shape:  (407, 512)\n",
      "Running TDA pipeline for variable:  GbxIss (262144,)\n",
      "Sliding window shape:  (407, 512)\n",
      "Running TDA pipeline for variable:  GbxIss (262144,)\n",
      "Sliding window shape:  (407, 512)\n",
      "Running TDA pipeline for variable:  GbxIss (262144,)\n",
      "Sliding window shape:  (407, 512)\n",
      "Running TDA pipeline for variable:  GbxIss (262144,)\n",
      "Sliding window shape:  (407, 512)\n",
      "Running TDA pipeline for variable:  GbxIss (262144,)\n",
      "Sliding window shape:  (407, 512)\n",
      "Running TDA pipeline for variable:  GbxIss (262144,)\n",
      "Sliding window shape:  (407, 512)\n",
      "Running TDA pipeline for variable:  GbxIss (262144,)\n",
      "Sliding window shape:  (407, 512)\n",
      "Running TDA pipeline for variable:  GbxIss (262144,)\n",
      "Sliding window shape:  (407, 512)\n",
      "Running TDA pipeline for variable:  GbxIss (262144,)\n",
      "Sliding window shape:  (407, 512)\n",
      "Running TDA pipeline for variable:  GbxIss (262144,)\n",
      "Sliding window shape:  (407, 512)\n",
      "Running TDA pipeline for variable:  GbxIss (262144,)\n",
      "Sliding window shape:  (407, 512)\n",
      "Running TDA pipeline for variable:  GbxIss (262144,)\n",
      "Sliding window shape:  (407, 512)\n",
      "Running TDA pipeline for variable:  GbxIss (262144,)\n",
      "Sliding window shape:  (407, 512)\n",
      "Running TDA pipeline for variable:  GbxIss (262144,)\n",
      "Sliding window shape:  (407, 512)\n",
      "Running TDA pipeline for variable:  GbxIss (262144,)\n",
      "Sliding window shape:  (407, 512)\n",
      "Running TDA pipeline for variable:  GbxIss (262144,)\n",
      "Sliding window shape:  (407, 512)\n",
      "Running TDA pipeline for variable:  GbxIss (262144,)\n",
      "Sliding window shape:  (407, 512)\n",
      "Running TDA pipeline for variable:  GbxIss (262144,)\n",
      "Sliding window shape:  (407, 512)\n",
      "Running TDA pipeline for variable:  GbxIss (262144,)\n",
      "Sliding window shape:  (407, 512)\n",
      "Running TDA pipeline for variable:  GbxIss (262144,)\n",
      "Sliding window shape:  (407, 512)\n",
      "Running TDA pipeline for variable:  GbxIss (262144,)\n",
      "Sliding window shape:  (407, 512)\n",
      "Results array:  50\n",
      "Text file 'GbxIss_25kHz.dat' created.\n",
      "DataFrame 'GbxIss' created and saved.\n"
     ]
    }
   ],
   "source": [
    "results, timestamps = process_data('./', 'GbxIss')\n",
    "df_GbxIss_25kHz = save_and_plot('GbxIss', 'GbxIss_25kHz.dat', results, timestamps)"
   ]
  },
  {
   "cell_type": "code",
   "execution_count": 108,
   "metadata": {},
   "outputs": [
    {
     "data": {
      "application/vnd.plotly.v1+json": {
       "config": {
        "plotlyServerURL": "https://plot.ly"
       },
       "data": [
        {
         "error_y": {
          "array": [
           0.4213016749264729,
           0.41879048356337606,
           0.37060859871615,
           0.4120512454889409,
           0.36171800120800857,
           0.35294464961467936,
           0.41504586461314996,
           0.43615320632603405,
           0.32984196529648824,
           0.3498364119352401,
           0.43635986287560935,
           0.35050553656430333,
           0.38221699479296767,
           0.3675028645431092,
           0.38628011522358213,
           0.29884861193162743,
           null,
           0.28751912397627527,
           0.3031014560083198,
           0.33691739138835697,
           0.2985960965751325,
           0.4193979527893894,
           0.31696008167920436,
           0.298721597058809,
           0.34799534736519316,
           0.36216587317315513,
           0.2678278373955682,
           0.3907329981558848,
           null,
           0.35387262847161116,
           0.2964677848676661,
           0.30020606308819797,
           null,
           0.3233440675982082,
           null,
           0.3691806549649063,
           0.31940768709722983,
           0.39777415545915096,
           null,
           0.37866589066813516,
           0.336051956153431,
           0.41326200021958237,
           null,
           0.604902981505223,
           0.6409748024708664,
           0.4890899660621348,
           null,
           null,
           null,
           null
          ],
          "type": "data",
          "visible": true
         },
         "mode": "lines+markers",
         "name": "MaxPersH0 25kHz",
         "type": "scatter",
         "x": [
          "2018-09-15 10:22:31",
          "2018-10-14 16:34:22",
          "2018-11-11 03:37:42",
          "2018-12-17 03:05:48",
          "2019-01-13 13:12:13",
          "2019-02-16 12:44:06",
          "2019-03-21 16:10:34",
          "2019-04-06 02:06:27",
          "2019-05-11 23:40:44",
          "2019-06-13 15:06:37",
          "2019-07-30 00:41:39",
          "2019-08-17 16:59:51",
          "2019-09-18 15:28:28",
          "2019-10-21 16:16:10",
          "2019-11-30 04:44:30",
          "2019-12-14 21:57:21",
          "2020-01-24 16:10:09",
          "2020-02-18 16:20:56",
          "2020-03-15 17:31:06",
          "2020-04-16 13:23:33",
          "2020-05-15 15:11:50",
          "2020-06-21 16:19:57",
          "2020-07-11 07:26:49",
          "2020-07-28 21:58:00",
          "2020-08-08 12:32:59",
          "2020-08-21 22:55:58",
          "2020-09-03 17:51:11",
          "2020-09-11 18:42:51",
          "2020-09-20 20:15:48",
          "2020-10-01 21:31:03",
          "2020-10-07 13:48:59",
          "2020-10-16 22:56:00",
          "2020-10-25 00:28:49",
          "2020-11-04 03:07:59",
          "2020-11-06 03:11:57",
          "2020-11-12 03:42:51",
          "2020-11-13 03:46:41",
          "2020-11-15 03:49:53",
          "2020-11-16 03:52:58",
          "2020-11-17 03:51:36",
          "2020-11-18 03:56:16",
          "2020-11-20 03:59:55",
          "2020-11-21 04:02:38",
          "2020-11-22 04:01:59",
          "2020-11-23 04:04:55",
          "2020-11-24 04:30:10",
          "2020-11-25 04:22:32",
          "2020-11-26 05:14:48",
          "2020-11-27 04:35:32",
          "2020-11-28 04:44:15"
         ],
         "xaxis": "x",
         "y": [
          3.0334641827998055,
          3.401483730250553,
          3.282754002976476,
          3.355958942113403,
          3.3322380848540134,
          3.3327472596555143,
          3.1905540804898123,
          3.1016550087518717,
          3.1470815291861642,
          3.0482233420050995,
          3.437263348178723,
          3.1249655247906207,
          3.1789753612780745,
          3.214255818570861,
          3.2100646185347723,
          2.536079784868976,
          null,
          2.4007374792192726,
          2.539965682884985,
          3.082968285980037,
          2.6568674405611117,
          3.383271123618986,
          2.358974458251597,
          2.6594485721072636,
          2.874997836073142,
          3.1896559735188026,
          2.721059935098784,
          2.893397992600387,
          null,
          3.275943867404572,
          2.3816981397624097,
          2.7004951370436086,
          null,
          2.721240093432715,
          null,
          3.167783698520145,
          3.090589444818895,
          3.402104129369487,
          null,
          3.247740479593488,
          3.0837689494618035,
          3.2937609973645037,
          null,
          3.0246750766580757,
          3.2182152517304665,
          3.0703494847553077,
          null,
          null,
          null,
          null
         ],
         "yaxis": "y"
        },
        {
         "error_y": {
          "array": [
           null,
           null,
           null,
           null,
           null,
           null,
           null,
           null,
           null,
           null,
           null,
           null,
           null,
           null,
           null,
           null,
           0.27769237263124524,
           null,
           null,
           null,
           null,
           null,
           null,
           null,
           null,
           null,
           null,
           null,
           0.5319380458370344,
           null,
           null,
           null,
           0.4628626163595457,
           null,
           0.3282501410645212,
           null,
           null,
           null,
           0.7802717154502119,
           null,
           null,
           null,
           0.45081390116532993,
           null,
           null,
           null,
           0.9857152930562438,
           0.16696420973920215,
           0.3646619889150458,
           0.22468561650300717
          ],
          "type": "data",
          "visible": true
         },
         "mode": "lines+markers",
         "name": "MaxPersH0 6kHz",
         "type": "scatter",
         "x": [
          "2018-09-15 10:22:31",
          "2018-10-14 16:34:22",
          "2018-11-11 03:37:42",
          "2018-12-17 03:05:48",
          "2019-01-13 13:12:13",
          "2019-02-16 12:44:06",
          "2019-03-21 16:10:34",
          "2019-04-06 02:06:27",
          "2019-05-11 23:40:44",
          "2019-06-13 15:06:37",
          "2019-07-30 00:41:39",
          "2019-08-17 16:59:51",
          "2019-09-18 15:28:28",
          "2019-10-21 16:16:10",
          "2019-11-30 04:44:30",
          "2019-12-14 21:57:21",
          "2020-01-24 16:10:09",
          "2020-02-18 16:20:56",
          "2020-03-15 17:31:06",
          "2020-04-16 13:23:33",
          "2020-05-15 15:11:50",
          "2020-06-21 16:19:57",
          "2020-07-11 07:26:49",
          "2020-07-28 21:58:00",
          "2020-08-08 12:32:59",
          "2020-08-21 22:55:58",
          "2020-09-03 17:51:11",
          "2020-09-11 18:42:51",
          "2020-09-20 20:15:48",
          "2020-10-01 21:31:03",
          "2020-10-07 13:48:59",
          "2020-10-16 22:56:00",
          "2020-10-25 00:28:49",
          "2020-11-04 03:07:59",
          "2020-11-06 03:11:57",
          "2020-11-12 03:42:51",
          "2020-11-13 03:46:41",
          "2020-11-15 03:49:53",
          "2020-11-16 03:52:58",
          "2020-11-17 03:51:36",
          "2020-11-18 03:56:16",
          "2020-11-20 03:59:55",
          "2020-11-21 04:02:38",
          "2020-11-22 04:01:59",
          "2020-11-23 04:04:55",
          "2020-11-24 04:30:10",
          "2020-11-25 04:22:32",
          "2020-11-26 05:14:48",
          "2020-11-27 04:35:32",
          "2020-11-28 04:44:15"
         ],
         "xaxis": "x",
         "y": [
          null,
          null,
          null,
          null,
          null,
          null,
          null,
          null,
          null,
          null,
          null,
          null,
          null,
          null,
          null,
          null,
          2.586709220611041,
          null,
          null,
          null,
          null,
          null,
          null,
          null,
          null,
          null,
          null,
          null,
          3.0264841887488294,
          null,
          null,
          null,
          3.6932923770069483,
          null,
          2.8679756537005674,
          null,
          null,
          null,
          7.632428126548653,
          null,
          null,
          null,
          3.277736296108113,
          null,
          null,
          null,
          3.919893811591229,
          0.9228407363986495,
          1.5488417972972737,
          1.1692661112220726
         ],
         "yaxis": "y"
        },
        {
         "error_y": {
          "array": [
           1.9213366322547694,
           4.588787266642374,
           1.8160576546046543,
           2.181153179462672,
           2.432854510436874,
           3.3951948670443057,
           2.2030841785535613,
           2.71730087845776,
           2.308783603960586,
           2.631885870865586,
           6.763919785559609,
           3.19158109950661,
           3.146829265759109,
           3.0128835714176048,
           2.7778095480564606,
           1.55577156493813,
           null,
           1.1194941076008702,
           2.50297927484767,
           2.7504822989645277,
           1.4664143840746724,
           2.1833395740683907,
           1.7955598343842583,
           1.5293739741279957,
           2.4493738992401197,
           2.4074045992289856,
           1.5666424750808625,
           1.7308146240653706,
           null,
           3.268508759140126,
           1.7803404462215517,
           1.586867006686591,
           null,
           1.5414271388060252,
           null,
           2.5879803098984158,
           2.00522414897415,
           3.371767047781091,
           null,
           4.107565704965651,
           2.3877564689744974,
           2.5459269898535952,
           null,
           3.8619332186304325,
           3.4824941307982464,
           3.3192420342130493,
           null,
           null,
           null,
           null
          ],
          "type": "data",
          "visible": true
         },
         "mode": "lines+markers",
         "name": "MaxPersH1 25kHz",
         "type": "scatter",
         "x": [
          "2018-09-15 10:22:31",
          "2018-10-14 16:34:22",
          "2018-11-11 03:37:42",
          "2018-12-17 03:05:48",
          "2019-01-13 13:12:13",
          "2019-02-16 12:44:06",
          "2019-03-21 16:10:34",
          "2019-04-06 02:06:27",
          "2019-05-11 23:40:44",
          "2019-06-13 15:06:37",
          "2019-07-30 00:41:39",
          "2019-08-17 16:59:51",
          "2019-09-18 15:28:28",
          "2019-10-21 16:16:10",
          "2019-11-30 04:44:30",
          "2019-12-14 21:57:21",
          "2020-01-24 16:10:09",
          "2020-02-18 16:20:56",
          "2020-03-15 17:31:06",
          "2020-04-16 13:23:33",
          "2020-05-15 15:11:50",
          "2020-06-21 16:19:57",
          "2020-07-11 07:26:49",
          "2020-07-28 21:58:00",
          "2020-08-08 12:32:59",
          "2020-08-21 22:55:58",
          "2020-09-03 17:51:11",
          "2020-09-11 18:42:51",
          "2020-09-20 20:15:48",
          "2020-10-01 21:31:03",
          "2020-10-07 13:48:59",
          "2020-10-16 22:56:00",
          "2020-10-25 00:28:49",
          "2020-11-04 03:07:59",
          "2020-11-06 03:11:57",
          "2020-11-12 03:42:51",
          "2020-11-13 03:46:41",
          "2020-11-15 03:49:53",
          "2020-11-16 03:52:58",
          "2020-11-17 03:51:36",
          "2020-11-18 03:56:16",
          "2020-11-20 03:59:55",
          "2020-11-21 04:02:38",
          "2020-11-22 04:01:59",
          "2020-11-23 04:04:55",
          "2020-11-24 04:30:10",
          "2020-11-25 04:22:32",
          "2020-11-26 05:14:48",
          "2020-11-27 04:35:32",
          "2020-11-28 04:44:15"
         ],
         "xaxis": "x2",
         "y": [
          7.788839121708413,
          11.205822401609117,
          8.434742390377222,
          8.731165502229546,
          9.731859304395297,
          10.872177195490432,
          8.94340652798552,
          8.95505224926173,
          8.91123678994706,
          9.498763063323,
          15.070294784386562,
          10.075682288012867,
          10.163914331932911,
          9.935967908151612,
          9.616418510455757,
          6.877726189920299,
          null,
          5.556347995776802,
          10.688672829025794,
          8.6209755845972,
          6.736098744066693,
          8.603562984185372,
          6.097039351592192,
          6.94761331837066,
          8.359916334363108,
          8.617187659336249,
          6.735372601328669,
          6.986759609320826,
          null,
          9.987465947500318,
          7.436964733594759,
          6.650122510713207,
          null,
          6.728673917362673,
          null,
          8.858579864665975,
          8.369232992575268,
          11.016391370454643,
          null,
          11.183316265921627,
          8.11168352098957,
          9.087877448126491,
          null,
          8.57855553533287,
          9.202388362158135,
          9.002598285675049,
          null,
          null,
          null,
          null
         ],
         "yaxis": "y2"
        },
        {
         "error_y": {
          "array": [
           null,
           null,
           null,
           null,
           null,
           null,
           null,
           null,
           null,
           null,
           null,
           null,
           null,
           null,
           null,
           null,
           0.40717908321726376,
           null,
           null,
           null,
           null,
           null,
           null,
           null,
           null,
           null,
           null,
           null,
           0.5408249634551686,
           null,
           null,
           null,
           0.5152907935750453,
           null,
           1.086764493460937,
           null,
           null,
           null,
           5.2300167298210605,
           null,
           null,
           null,
           0.5785486530010828,
           null,
           null,
           null,
           1.269164278169569,
           0.24886063758573662,
           0.49870539540776176,
           0.3073130765950897
          ],
          "type": "data",
          "visible": true
         },
         "mode": "lines+markers",
         "name": "MaxPersH1 6kHz",
         "type": "scatter",
         "x": [
          "2018-09-15 10:22:31",
          "2018-10-14 16:34:22",
          "2018-11-11 03:37:42",
          "2018-12-17 03:05:48",
          "2019-01-13 13:12:13",
          "2019-02-16 12:44:06",
          "2019-03-21 16:10:34",
          "2019-04-06 02:06:27",
          "2019-05-11 23:40:44",
          "2019-06-13 15:06:37",
          "2019-07-30 00:41:39",
          "2019-08-17 16:59:51",
          "2019-09-18 15:28:28",
          "2019-10-21 16:16:10",
          "2019-11-30 04:44:30",
          "2019-12-14 21:57:21",
          "2020-01-24 16:10:09",
          "2020-02-18 16:20:56",
          "2020-03-15 17:31:06",
          "2020-04-16 13:23:33",
          "2020-05-15 15:11:50",
          "2020-06-21 16:19:57",
          "2020-07-11 07:26:49",
          "2020-07-28 21:58:00",
          "2020-08-08 12:32:59",
          "2020-08-21 22:55:58",
          "2020-09-03 17:51:11",
          "2020-09-11 18:42:51",
          "2020-09-20 20:15:48",
          "2020-10-01 21:31:03",
          "2020-10-07 13:48:59",
          "2020-10-16 22:56:00",
          "2020-10-25 00:28:49",
          "2020-11-04 03:07:59",
          "2020-11-06 03:11:57",
          "2020-11-12 03:42:51",
          "2020-11-13 03:46:41",
          "2020-11-15 03:49:53",
          "2020-11-16 03:52:58",
          "2020-11-17 03:51:36",
          "2020-11-18 03:56:16",
          "2020-11-20 03:59:55",
          "2020-11-21 04:02:38",
          "2020-11-22 04:01:59",
          "2020-11-23 04:04:55",
          "2020-11-24 04:30:10",
          "2020-11-25 04:22:32",
          "2020-11-26 05:14:48",
          "2020-11-27 04:35:32",
          "2020-11-28 04:44:15"
         ],
         "xaxis": "x2",
         "y": [
          null,
          null,
          null,
          null,
          null,
          null,
          null,
          null,
          null,
          null,
          null,
          null,
          null,
          null,
          null,
          null,
          2.8114241296379126,
          null,
          null,
          null,
          null,
          null,
          null,
          null,
          null,
          null,
          null,
          null,
          3.2612478982156783,
          null,
          null,
          null,
          3.4710003920455477,
          null,
          3.81578767240344,
          null,
          null,
          null,
          17.57289855634395,
          null,
          null,
          null,
          3.5542337040403,
          null,
          null,
          null,
          5.250673505797315,
          1.2969088803476363,
          2.159949952986703,
          1.7100603939288885
         ],
         "yaxis": "y2"
        }
       ],
       "layout": {
        "height": 600,
        "template": {
         "data": {
          "bar": [
           {
            "error_x": {
             "color": "#2a3f5f"
            },
            "error_y": {
             "color": "#2a3f5f"
            },
            "marker": {
             "line": {
              "color": "#E5ECF6",
              "width": 0.5
             },
             "pattern": {
              "fillmode": "overlay",
              "size": 10,
              "solidity": 0.2
             }
            },
            "type": "bar"
           }
          ],
          "barpolar": [
           {
            "marker": {
             "line": {
              "color": "#E5ECF6",
              "width": 0.5
             },
             "pattern": {
              "fillmode": "overlay",
              "size": 10,
              "solidity": 0.2
             }
            },
            "type": "barpolar"
           }
          ],
          "carpet": [
           {
            "aaxis": {
             "endlinecolor": "#2a3f5f",
             "gridcolor": "white",
             "linecolor": "white",
             "minorgridcolor": "white",
             "startlinecolor": "#2a3f5f"
            },
            "baxis": {
             "endlinecolor": "#2a3f5f",
             "gridcolor": "white",
             "linecolor": "white",
             "minorgridcolor": "white",
             "startlinecolor": "#2a3f5f"
            },
            "type": "carpet"
           }
          ],
          "choropleth": [
           {
            "colorbar": {
             "outlinewidth": 0,
             "ticks": ""
            },
            "type": "choropleth"
           }
          ],
          "contour": [
           {
            "colorbar": {
             "outlinewidth": 0,
             "ticks": ""
            },
            "colorscale": [
             [
              0,
              "#0d0887"
             ],
             [
              0.1111111111111111,
              "#46039f"
             ],
             [
              0.2222222222222222,
              "#7201a8"
             ],
             [
              0.3333333333333333,
              "#9c179e"
             ],
             [
              0.4444444444444444,
              "#bd3786"
             ],
             [
              0.5555555555555556,
              "#d8576b"
             ],
             [
              0.6666666666666666,
              "#ed7953"
             ],
             [
              0.7777777777777778,
              "#fb9f3a"
             ],
             [
              0.8888888888888888,
              "#fdca26"
             ],
             [
              1,
              "#f0f921"
             ]
            ],
            "type": "contour"
           }
          ],
          "contourcarpet": [
           {
            "colorbar": {
             "outlinewidth": 0,
             "ticks": ""
            },
            "type": "contourcarpet"
           }
          ],
          "heatmap": [
           {
            "colorbar": {
             "outlinewidth": 0,
             "ticks": ""
            },
            "colorscale": [
             [
              0,
              "#0d0887"
             ],
             [
              0.1111111111111111,
              "#46039f"
             ],
             [
              0.2222222222222222,
              "#7201a8"
             ],
             [
              0.3333333333333333,
              "#9c179e"
             ],
             [
              0.4444444444444444,
              "#bd3786"
             ],
             [
              0.5555555555555556,
              "#d8576b"
             ],
             [
              0.6666666666666666,
              "#ed7953"
             ],
             [
              0.7777777777777778,
              "#fb9f3a"
             ],
             [
              0.8888888888888888,
              "#fdca26"
             ],
             [
              1,
              "#f0f921"
             ]
            ],
            "type": "heatmap"
           }
          ],
          "heatmapgl": [
           {
            "colorbar": {
             "outlinewidth": 0,
             "ticks": ""
            },
            "colorscale": [
             [
              0,
              "#0d0887"
             ],
             [
              0.1111111111111111,
              "#46039f"
             ],
             [
              0.2222222222222222,
              "#7201a8"
             ],
             [
              0.3333333333333333,
              "#9c179e"
             ],
             [
              0.4444444444444444,
              "#bd3786"
             ],
             [
              0.5555555555555556,
              "#d8576b"
             ],
             [
              0.6666666666666666,
              "#ed7953"
             ],
             [
              0.7777777777777778,
              "#fb9f3a"
             ],
             [
              0.8888888888888888,
              "#fdca26"
             ],
             [
              1,
              "#f0f921"
             ]
            ],
            "type": "heatmapgl"
           }
          ],
          "histogram": [
           {
            "marker": {
             "pattern": {
              "fillmode": "overlay",
              "size": 10,
              "solidity": 0.2
             }
            },
            "type": "histogram"
           }
          ],
          "histogram2d": [
           {
            "colorbar": {
             "outlinewidth": 0,
             "ticks": ""
            },
            "colorscale": [
             [
              0,
              "#0d0887"
             ],
             [
              0.1111111111111111,
              "#46039f"
             ],
             [
              0.2222222222222222,
              "#7201a8"
             ],
             [
              0.3333333333333333,
              "#9c179e"
             ],
             [
              0.4444444444444444,
              "#bd3786"
             ],
             [
              0.5555555555555556,
              "#d8576b"
             ],
             [
              0.6666666666666666,
              "#ed7953"
             ],
             [
              0.7777777777777778,
              "#fb9f3a"
             ],
             [
              0.8888888888888888,
              "#fdca26"
             ],
             [
              1,
              "#f0f921"
             ]
            ],
            "type": "histogram2d"
           }
          ],
          "histogram2dcontour": [
           {
            "colorbar": {
             "outlinewidth": 0,
             "ticks": ""
            },
            "colorscale": [
             [
              0,
              "#0d0887"
             ],
             [
              0.1111111111111111,
              "#46039f"
             ],
             [
              0.2222222222222222,
              "#7201a8"
             ],
             [
              0.3333333333333333,
              "#9c179e"
             ],
             [
              0.4444444444444444,
              "#bd3786"
             ],
             [
              0.5555555555555556,
              "#d8576b"
             ],
             [
              0.6666666666666666,
              "#ed7953"
             ],
             [
              0.7777777777777778,
              "#fb9f3a"
             ],
             [
              0.8888888888888888,
              "#fdca26"
             ],
             [
              1,
              "#f0f921"
             ]
            ],
            "type": "histogram2dcontour"
           }
          ],
          "mesh3d": [
           {
            "colorbar": {
             "outlinewidth": 0,
             "ticks": ""
            },
            "type": "mesh3d"
           }
          ],
          "parcoords": [
           {
            "line": {
             "colorbar": {
              "outlinewidth": 0,
              "ticks": ""
             }
            },
            "type": "parcoords"
           }
          ],
          "pie": [
           {
            "automargin": true,
            "type": "pie"
           }
          ],
          "scatter": [
           {
            "fillpattern": {
             "fillmode": "overlay",
             "size": 10,
             "solidity": 0.2
            },
            "type": "scatter"
           }
          ],
          "scatter3d": [
           {
            "line": {
             "colorbar": {
              "outlinewidth": 0,
              "ticks": ""
             }
            },
            "marker": {
             "colorbar": {
              "outlinewidth": 0,
              "ticks": ""
             }
            },
            "type": "scatter3d"
           }
          ],
          "scattercarpet": [
           {
            "marker": {
             "colorbar": {
              "outlinewidth": 0,
              "ticks": ""
             }
            },
            "type": "scattercarpet"
           }
          ],
          "scattergeo": [
           {
            "marker": {
             "colorbar": {
              "outlinewidth": 0,
              "ticks": ""
             }
            },
            "type": "scattergeo"
           }
          ],
          "scattergl": [
           {
            "marker": {
             "colorbar": {
              "outlinewidth": 0,
              "ticks": ""
             }
            },
            "type": "scattergl"
           }
          ],
          "scattermapbox": [
           {
            "marker": {
             "colorbar": {
              "outlinewidth": 0,
              "ticks": ""
             }
            },
            "type": "scattermapbox"
           }
          ],
          "scatterpolar": [
           {
            "marker": {
             "colorbar": {
              "outlinewidth": 0,
              "ticks": ""
             }
            },
            "type": "scatterpolar"
           }
          ],
          "scatterpolargl": [
           {
            "marker": {
             "colorbar": {
              "outlinewidth": 0,
              "ticks": ""
             }
            },
            "type": "scatterpolargl"
           }
          ],
          "scatterternary": [
           {
            "marker": {
             "colorbar": {
              "outlinewidth": 0,
              "ticks": ""
             }
            },
            "type": "scatterternary"
           }
          ],
          "surface": [
           {
            "colorbar": {
             "outlinewidth": 0,
             "ticks": ""
            },
            "colorscale": [
             [
              0,
              "#0d0887"
             ],
             [
              0.1111111111111111,
              "#46039f"
             ],
             [
              0.2222222222222222,
              "#7201a8"
             ],
             [
              0.3333333333333333,
              "#9c179e"
             ],
             [
              0.4444444444444444,
              "#bd3786"
             ],
             [
              0.5555555555555556,
              "#d8576b"
             ],
             [
              0.6666666666666666,
              "#ed7953"
             ],
             [
              0.7777777777777778,
              "#fb9f3a"
             ],
             [
              0.8888888888888888,
              "#fdca26"
             ],
             [
              1,
              "#f0f921"
             ]
            ],
            "type": "surface"
           }
          ],
          "table": [
           {
            "cells": {
             "fill": {
              "color": "#EBF0F8"
             },
             "line": {
              "color": "white"
             }
            },
            "header": {
             "fill": {
              "color": "#C8D4E3"
             },
             "line": {
              "color": "white"
             }
            },
            "type": "table"
           }
          ]
         },
         "layout": {
          "annotationdefaults": {
           "arrowcolor": "#2a3f5f",
           "arrowhead": 0,
           "arrowwidth": 1
          },
          "autotypenumbers": "strict",
          "coloraxis": {
           "colorbar": {
            "outlinewidth": 0,
            "ticks": ""
           }
          },
          "colorscale": {
           "diverging": [
            [
             0,
             "#8e0152"
            ],
            [
             0.1,
             "#c51b7d"
            ],
            [
             0.2,
             "#de77ae"
            ],
            [
             0.3,
             "#f1b6da"
            ],
            [
             0.4,
             "#fde0ef"
            ],
            [
             0.5,
             "#f7f7f7"
            ],
            [
             0.6,
             "#e6f5d0"
            ],
            [
             0.7,
             "#b8e186"
            ],
            [
             0.8,
             "#7fbc41"
            ],
            [
             0.9,
             "#4d9221"
            ],
            [
             1,
             "#276419"
            ]
           ],
           "sequential": [
            [
             0,
             "#0d0887"
            ],
            [
             0.1111111111111111,
             "#46039f"
            ],
            [
             0.2222222222222222,
             "#7201a8"
            ],
            [
             0.3333333333333333,
             "#9c179e"
            ],
            [
             0.4444444444444444,
             "#bd3786"
            ],
            [
             0.5555555555555556,
             "#d8576b"
            ],
            [
             0.6666666666666666,
             "#ed7953"
            ],
            [
             0.7777777777777778,
             "#fb9f3a"
            ],
            [
             0.8888888888888888,
             "#fdca26"
            ],
            [
             1,
             "#f0f921"
            ]
           ],
           "sequentialminus": [
            [
             0,
             "#0d0887"
            ],
            [
             0.1111111111111111,
             "#46039f"
            ],
            [
             0.2222222222222222,
             "#7201a8"
            ],
            [
             0.3333333333333333,
             "#9c179e"
            ],
            [
             0.4444444444444444,
             "#bd3786"
            ],
            [
             0.5555555555555556,
             "#d8576b"
            ],
            [
             0.6666666666666666,
             "#ed7953"
            ],
            [
             0.7777777777777778,
             "#fb9f3a"
            ],
            [
             0.8888888888888888,
             "#fdca26"
            ],
            [
             1,
             "#f0f921"
            ]
           ]
          },
          "colorway": [
           "#636efa",
           "#EF553B",
           "#00cc96",
           "#ab63fa",
           "#FFA15A",
           "#19d3f3",
           "#FF6692",
           "#B6E880",
           "#FF97FF",
           "#FECB52"
          ],
          "font": {
           "color": "#2a3f5f"
          },
          "geo": {
           "bgcolor": "white",
           "lakecolor": "white",
           "landcolor": "#E5ECF6",
           "showlakes": true,
           "showland": true,
           "subunitcolor": "white"
          },
          "hoverlabel": {
           "align": "left"
          },
          "hovermode": "closest",
          "mapbox": {
           "style": "light"
          },
          "paper_bgcolor": "white",
          "plot_bgcolor": "#E5ECF6",
          "polar": {
           "angularaxis": {
            "gridcolor": "white",
            "linecolor": "white",
            "ticks": ""
           },
           "bgcolor": "#E5ECF6",
           "radialaxis": {
            "gridcolor": "white",
            "linecolor": "white",
            "ticks": ""
           }
          },
          "scene": {
           "xaxis": {
            "backgroundcolor": "#E5ECF6",
            "gridcolor": "white",
            "gridwidth": 2,
            "linecolor": "white",
            "showbackground": true,
            "ticks": "",
            "zerolinecolor": "white"
           },
           "yaxis": {
            "backgroundcolor": "#E5ECF6",
            "gridcolor": "white",
            "gridwidth": 2,
            "linecolor": "white",
            "showbackground": true,
            "ticks": "",
            "zerolinecolor": "white"
           },
           "zaxis": {
            "backgroundcolor": "#E5ECF6",
            "gridcolor": "white",
            "gridwidth": 2,
            "linecolor": "white",
            "showbackground": true,
            "ticks": "",
            "zerolinecolor": "white"
           }
          },
          "shapedefaults": {
           "line": {
            "color": "#2a3f5f"
           }
          },
          "ternary": {
           "aaxis": {
            "gridcolor": "white",
            "linecolor": "white",
            "ticks": ""
           },
           "baxis": {
            "gridcolor": "white",
            "linecolor": "white",
            "ticks": ""
           },
           "bgcolor": "#E5ECF6",
           "caxis": {
            "gridcolor": "white",
            "linecolor": "white",
            "ticks": ""
           }
          },
          "title": {
           "x": 0.05
          },
          "xaxis": {
           "automargin": true,
           "gridcolor": "white",
           "linecolor": "white",
           "ticks": "",
           "title": {
            "standoff": 15
           },
           "zerolinecolor": "white",
           "zerolinewidth": 2
          },
          "yaxis": {
           "automargin": true,
           "gridcolor": "white",
           "linecolor": "white",
           "ticks": "",
           "title": {
            "standoff": 15
           },
           "zerolinecolor": "white",
           "zerolinewidth": 2
          }
         }
        },
        "title": {
         "text": "plot_name"
        },
        "width": 1200,
        "xaxis": {
         "anchor": "y",
         "domain": [
          0,
          1
         ]
        },
        "xaxis2": {
         "anchor": "y2",
         "domain": [
          0,
          1
         ]
        },
        "yaxis": {
         "anchor": "x",
         "domain": [
          0.575,
          1
         ]
        },
        "yaxis2": {
         "anchor": "x2",
         "domain": [
          0,
          0.425
         ]
        }
       }
      }
     },
     "metadata": {},
     "output_type": "display_data"
    }
   ],
   "source": [
    "fig = make_subplots(rows=2, cols=1)\n",
    "\n",
    "fig.add_trace(go.Scatter(\n",
    "    x=df_GbxIss_25kHz['Timestamp'],\n",
    "    y=df_GbxIss_25kHz['MaxPersH0'],\n",
    "    mode='lines+markers',  # Add markers for data points\n",
    "    error_y=dict(\n",
    "        type='data',  # error type: data-based error\n",
    "        array=df_GbxIss_25kHz['StdPersH0'],  # array of error values\n",
    "        visible=True\n",
    "    ),\n",
    "    name=\"MaxPersH0 25kHz\"\n",
    "), row=1, col=1)\n",
    "\n",
    "fig.add_trace(go.Scatter(\n",
    "    x=df_GbxIss_6kHz['Timestamp'],\n",
    "    y=df_GbxIss_6kHz['MaxPersH0'],\n",
    "    mode='lines+markers',  # Add markers for data points\n",
    "    error_y=dict(\n",
    "        type='data',  # error type: data-based error\n",
    "        array=df_GbxIss_6kHz['StdPersH0'],  # array of error values\n",
    "        visible=True\n",
    "    ),\n",
    "    name=\"MaxPersH0 6kHz\"\n",
    "), row=1, col=1)\n",
    "\n",
    "fig.add_trace(go.Scatter(\n",
    "    x=df_GbxIss_25kHz['Timestamp'],\n",
    "    y=df_GbxIss_25kHz['MaxPersH1'],\n",
    "    mode='lines+markers',  # Add markers for data points\n",
    "    error_y=dict(\n",
    "        type='data',  # error type: data-based error\n",
    "        array=df_GbxIss_25kHz['StdPersH1'],  # array of error values\n",
    "        visible=True\n",
    "    ),\n",
    "    name=\"MaxPersH1 25kHz\"\n",
    "), row=2, col=1)\n",
    "\n",
    "fig.add_trace(go.Scatter(\n",
    "    x=df_GbxIss_6kHz['Timestamp'],\n",
    "    y=df_GbxIss_6kHz['MaxPersH1'],\n",
    "    mode='lines+markers',  # Add markers for data points\n",
    "    error_y=dict(\n",
    "        type='data',  # error type: data-based error\n",
    "        array=df_GbxIss_6kHz['StdPersH1'],  # array of error values\n",
    "        visible=True\n",
    "    ),\n",
    "    name=\"MaxPersH1 6kHz\"\n",
    "), row=2, col=1)\n",
    "\n",
    "fig.update_layout(height=600, width=1200, title_text=\"plot_name\")\n",
    "\n",
    "fig.show()\n"
   ]
  },
  {
   "cell_type": "code",
   "execution_count": null,
   "metadata": {},
   "outputs": [],
   "source": []
  }
 ],
 "metadata": {
  "kernelspec": {
   "display_name": "tda-TgTABIFl-py3.9",
   "language": "python",
   "name": "python3"
  },
  "language_info": {
   "codemirror_mode": {
    "name": "ipython",
    "version": 3
   },
   "file_extension": ".py",
   "mimetype": "text/x-python",
   "name": "python",
   "nbconvert_exporter": "python",
   "pygments_lexer": "ipython3",
   "version": "3.9.6"
  },
  "orig_nbformat": 4
 },
 "nbformat": 4,
 "nbformat_minor": 2
}
